{
 "cells": [
  {
   "cell_type": "code",
   "execution_count": 1,
   "id": "eb24aeb1-e719-4dd6-a56a-1c92caa2a5b2",
   "metadata": {},
   "outputs": [
    {
     "name": "stdout",
     "output_type": "stream",
     "text": [
      "Looking in indexes: http://mirrors.aliyun.com/pypi/simple\n",
      "Collecting pandas\n",
      "  Downloading http://mirrors.aliyun.com/pypi/packages/f8/7f/5b047effafbdd34e52c9e2d7e44f729a0655efafb22198c45cf692cdc157/pandas-2.0.3-cp38-cp38-manylinux_2_17_x86_64.manylinux2014_x86_64.whl (12.4 MB)\n",
      "\u001b[K     |████████████████████████████████| 12.4 MB 654 kB/s eta 0:00:01\n",
      "\u001b[?25hCollecting tzdata>=2022.1\n",
      "  Downloading http://mirrors.aliyun.com/pypi/packages/65/58/f9c9e6be752e9fcb8b6a0ee9fb87e6e7a1f6bcab2cdc73f02bb7ba91ada0/tzdata-2024.1-py2.py3-none-any.whl (345 kB)\n",
      "\u001b[K     |████████████████████████████████| 345 kB 687 kB/s eta 0:00:01\n",
      "\u001b[?25hRequirement already satisfied: pytz>=2020.1 in /root/miniconda3/lib/python3.8/site-packages (from pandas) (2021.1)\n",
      "Requirement already satisfied: python-dateutil>=2.8.2 in /root/miniconda3/lib/python3.8/site-packages (from pandas) (2.8.2)\n",
      "Requirement already satisfied: numpy>=1.20.3 in /root/miniconda3/lib/python3.8/site-packages (from pandas) (1.21.2)\n",
      "Requirement already satisfied: six>=1.5 in /root/miniconda3/lib/python3.8/site-packages (from python-dateutil>=2.8.2->pandas) (1.16.0)\n",
      "Installing collected packages: tzdata, pandas\n",
      "Successfully installed pandas-2.0.3 tzdata-2024.1\n",
      "\u001b[33mWARNING: Running pip as the 'root' user can result in broken permissions and conflicting behaviour with the system package manager. It is recommended to use a virtual environment instead: https://pip.pypa.io/warnings/venv\u001b[0m\n",
      "Note: you may need to restart the kernel to use updated packages.\n"
     ]
    }
   ],
   "source": [
    "pip install pandas"
   ]
  },
  {
   "cell_type": "code",
   "execution_count": 2,
   "id": "2a53a700-4bed-4879-8a33-a1891c44f00e",
   "metadata": {},
   "outputs": [
    {
     "name": "stdout",
     "output_type": "stream",
     "text": [
      "Looking in indexes: http://mirrors.aliyun.com/pypi/simple\n",
      "Requirement already satisfied: numpy in /root/miniconda3/lib/python3.8/site-packages (1.21.2)\n",
      "\u001b[33mWARNING: Running pip as the 'root' user can result in broken permissions and conflicting behaviour with the system package manager. It is recommended to use a virtual environment instead: https://pip.pypa.io/warnings/venv\u001b[0m\n",
      "Note: you may need to restart the kernel to use updated packages.\n"
     ]
    }
   ],
   "source": [
    "pip install numpy"
   ]
  },
  {
   "cell_type": "code",
   "execution_count": 3,
   "id": "4c41dc07-b033-40de-9757-b6044f6b8162",
   "metadata": {},
   "outputs": [
    {
     "name": "stdout",
     "output_type": "stream",
     "text": [
      "Looking in indexes: http://mirrors.aliyun.com/pypi/simple\n",
      "Collecting transformers\n",
      "  Downloading http://mirrors.aliyun.com/pypi/packages/d9/b7/98f821d70102e2d38483bbb7013a689d2d646daa4495377bc910374ad727/transformers-4.41.2-py3-none-any.whl (9.1 MB)\n",
      "\u001b[K     |████████████████████████████████| 9.1 MB 572 kB/s eta 0:00:01\n",
      "\u001b[?25hRequirement already satisfied: requests in /root/miniconda3/lib/python3.8/site-packages (from transformers) (2.25.1)\n",
      "Collecting pyyaml>=5.1\n",
      "  Downloading http://mirrors.aliyun.com/pypi/packages/c8/6b/6600ac24725c7388255b2f5add93f91e58a5d7efaf4af244fdbcc11a541b/PyYAML-6.0.1-cp38-cp38-manylinux_2_17_x86_64.manylinux2014_x86_64.whl (736 kB)\n",
      "\u001b[K     |████████████████████████████████| 736 kB 517 kB/s eta 0:00:01\n",
      "\u001b[?25hCollecting regex!=2019.12.17\n",
      "  Downloading http://mirrors.aliyun.com/pypi/packages/ec/a1/2542d273818b140a28d26cec2956a0ce8c8ade25de1ed4f515c08593d4ea/regex-2024.5.15-cp38-cp38-manylinux_2_17_x86_64.manylinux2014_x86_64.whl (776 kB)\n",
      "\u001b[K     |████████████████████████████████| 776 kB 645 kB/s eta 0:00:01\n",
      "\u001b[?25hCollecting filelock\n",
      "  Downloading http://mirrors.aliyun.com/pypi/packages/41/24/0b023b6537dfc9bae2c779353998e3e99ac7dfff4222fc6126650e93c3f3/filelock-3.14.0-py3-none-any.whl (12 kB)\n",
      "Collecting huggingface-hub<1.0,>=0.23.0\n",
      "  Downloading http://mirrors.aliyun.com/pypi/packages/78/71/6ce4136149cb42b98599d49c39b3a39dd6858b5f9307490998c40e26a51e/huggingface_hub-0.23.2-py3-none-any.whl (401 kB)\n",
      "\u001b[K     |████████████████████████████████| 401 kB 669 kB/s eta 0:00:01\n",
      "\u001b[?25hCollecting safetensors>=0.4.1\n",
      "  Downloading http://mirrors.aliyun.com/pypi/packages/41/ae/7b9e79467ab81884b457214eace4b20214e286277b75c47150ff297c8561/safetensors-0.4.3-cp38-cp38-manylinux_2_17_x86_64.manylinux2014_x86_64.whl (1.2 MB)\n",
      "\u001b[K     |████████████████████████████████| 1.2 MB 638 kB/s eta 0:00:01\n",
      "\u001b[?25hRequirement already satisfied: numpy>=1.17 in /root/miniconda3/lib/python3.8/site-packages (from transformers) (1.21.2)\n",
      "Requirement already satisfied: tqdm>=4.27 in /root/miniconda3/lib/python3.8/site-packages (from transformers) (4.61.2)\n",
      "Requirement already satisfied: packaging>=20.0 in /root/miniconda3/lib/python3.8/site-packages (from transformers) (21.0)\n",
      "Collecting tokenizers<0.20,>=0.19\n",
      "  Downloading http://mirrors.aliyun.com/pypi/packages/18/0d/ee99f50407788149bc9eddae6af0b4016865d67fb687730d151683b13b80/tokenizers-0.19.1-cp38-cp38-manylinux_2_17_x86_64.manylinux2014_x86_64.whl (3.6 MB)\n",
      "\u001b[K     |████████████████████████████████| 3.6 MB 652 kB/s eta 0:00:01\n",
      "\u001b[?25hRequirement already satisfied: typing-extensions>=3.7.4.3 in /root/miniconda3/lib/python3.8/site-packages (from huggingface-hub<1.0,>=0.23.0->transformers) (3.10.0.2)\n",
      "Collecting fsspec>=2023.5.0\n",
      "  Downloading http://mirrors.aliyun.com/pypi/packages/ba/a3/16e9fe32187e9c8bc7f9b7bcd9728529faa725231a0c96f2f98714ff2fc5/fsspec-2024.5.0-py3-none-any.whl (316 kB)\n",
      "\u001b[K     |████████████████████████████████| 316 kB 653 kB/s eta 0:00:01\n",
      "\u001b[?25hRequirement already satisfied: pyparsing>=2.0.2 in /root/miniconda3/lib/python3.8/site-packages (from packaging>=20.0->transformers) (2.4.7)\n",
      "Requirement already satisfied: chardet<5,>=3.0.2 in /root/miniconda3/lib/python3.8/site-packages (from requests->transformers) (4.0.0)\n",
      "Requirement already satisfied: certifi>=2017.4.17 in /root/miniconda3/lib/python3.8/site-packages (from requests->transformers) (2021.5.30)\n",
      "Requirement already satisfied: urllib3<1.27,>=1.21.1 in /root/miniconda3/lib/python3.8/site-packages (from requests->transformers) (1.26.6)\n",
      "Requirement already satisfied: idna<3,>=2.5 in /root/miniconda3/lib/python3.8/site-packages (from requests->transformers) (2.10)\n",
      "Installing collected packages: pyyaml, fsspec, filelock, huggingface-hub, tokenizers, safetensors, regex, transformers\n",
      "Successfully installed filelock-3.14.0 fsspec-2024.5.0 huggingface-hub-0.23.2 pyyaml-6.0.1 regex-2024.5.15 safetensors-0.4.3 tokenizers-0.19.1 transformers-4.41.2\n",
      "\u001b[33mWARNING: Running pip as the 'root' user can result in broken permissions and conflicting behaviour with the system package manager. It is recommended to use a virtual environment instead: https://pip.pypa.io/warnings/venv\u001b[0m\n",
      "Note: you may need to restart the kernel to use updated packages.\n"
     ]
    }
   ],
   "source": [
    "pip install transformers"
   ]
  },
  {
   "cell_type": "code",
   "execution_count": 4,
   "id": "c0807b5e-d575-4fdb-8a73-818914982d23",
   "metadata": {},
   "outputs": [
    {
     "name": "stdout",
     "output_type": "stream",
     "text": [
      "Looking in indexes: http://mirrors.aliyun.com/pypi/simple\n",
      "Collecting scikit-learn\n",
      "  Downloading http://mirrors.aliyun.com/pypi/packages/3f/48/6fdd99f5717045f9984616b5c2ec683d6286d30c0ac234563062132b83ab/scikit_learn-1.3.2-cp38-cp38-manylinux_2_17_x86_64.manylinux2014_x86_64.whl (11.1 MB)\n",
      "\u001b[K     |████████████████████████████████| 11.1 MB 454 kB/s eta 0:00:01\n",
      "\u001b[?25hCollecting joblib>=1.1.1\n",
      "  Downloading http://mirrors.aliyun.com/pypi/packages/91/29/df4b9b42f2be0b623cbd5e2140cafcaa2bef0759a00b7b70104dcfe2fb51/joblib-1.4.2-py3-none-any.whl (301 kB)\n",
      "\u001b[K     |████████████████████████████████| 301 kB 506 kB/s eta 0:00:01\n",
      "\u001b[?25hRequirement already satisfied: numpy<2.0,>=1.17.3 in /root/miniconda3/lib/python3.8/site-packages (from scikit-learn) (1.21.2)\n",
      "Collecting threadpoolctl>=2.0.0\n",
      "  Downloading http://mirrors.aliyun.com/pypi/packages/4b/2c/ffbf7a134b9ab11a67b0cf0726453cedd9c5043a4fe7a35d1cefa9a1bcfb/threadpoolctl-3.5.0-py3-none-any.whl (18 kB)\n",
      "Collecting scipy>=1.5.0\n",
      "  Downloading http://mirrors.aliyun.com/pypi/packages/69/f0/fb07a9548e48b687b8bf2fa81d71aba9cfc548d365046ca1c791e24db99d/scipy-1.10.1-cp38-cp38-manylinux_2_17_x86_64.manylinux2014_x86_64.whl (34.5 MB)\n",
      "\u001b[K     |████████████████████████████████| 34.5 MB 466 kB/s eta 0:00:01\n",
      "\u001b[?25hInstalling collected packages: threadpoolctl, scipy, joblib, scikit-learn\n",
      "Successfully installed joblib-1.4.2 scikit-learn-1.3.2 scipy-1.10.1 threadpoolctl-3.5.0\n",
      "\u001b[33mWARNING: Running pip as the 'root' user can result in broken permissions and conflicting behaviour with the system package manager. It is recommended to use a virtual environment instead: https://pip.pypa.io/warnings/venv\u001b[0m\n",
      "Note: you may need to restart the kernel to use updated packages.\n"
     ]
    }
   ],
   "source": [
    "pip install scikit-learn"
   ]
  },
  {
   "cell_type": "code",
   "execution_count": 3,
   "id": "75247557-02a0-48e8-b778-9b218a2111ee",
   "metadata": {},
   "outputs": [],
   "source": [
    "import torch  # 导入PyTorch库\n",
    "import numpy as np  # 导入NumPy库\n",
    "import pandas as pd  # 导入Pandas库\n",
    "from transformers import BertTokenizer, BertModel  # 从Transformers库中导入BertTokenizer和BertModel\n",
    "from torch import nn  # 导入PyTorch的神经网络模块\n",
    "from torch.optim import Adam  # 导入PyTorch的Adam优化器\n",
    "from tqdm import tqdm  # 导入tqdm库用于进度条显示\n",
    "import gc  # 导入垃圾回收模块\n",
    "import os  # 导入操作系统接口模块\n",
    "\n",
    "# 清理GPU内存\n",
    "def free_gpu_memory():\n",
    "    gc.collect()  # 垃圾回收\n",
    "    torch.cuda.empty_cache()  # 清空CUDA缓存\n",
    "\n",
    "free_gpu_memory()  # 调用清理GPU内存的函数\n",
    "\n",
    "tokenizer = BertTokenizer.from_pretrained('model')  # 从预训练模型加载BertTokenizer\n",
    "\n",
    "# 定义标签字典\n",
    "labels = {'white': 0, 'sex': 1, 'scam': 2, 'gamble': 3, 'black': 4}\n",
    "\n",
    "# 定义滑动窗口分词器函数\n",
    "def sliding_window_tokenizer(text, tokenizer, max_length=128, stride=64):\n",
    "    encoding = tokenizer(text, return_tensors='pt', truncation=False)  # 对文本进行编码\n",
    "    input_ids = encoding['input_ids'].squeeze(0)  # 获取input_ids并去除批次维度\n",
    "    attention_mask = encoding['attention_mask'].squeeze(0)  # 获取attention_mask并去除批次维度\n",
    "\n",
    "    token_windows = []  # 初始化存储token窗口的列表\n",
    "    for i in range(0, len(input_ids), stride):  # 按照步长进行滑动窗口\n",
    "        window_input_ids = input_ids[i:i + max_length]  # 获取当前窗口的input_ids\n",
    "        window_attention_mask = attention_mask[i:i + max_length]  # 获取当前窗口的attention_mask\n",
    "\n",
    "        if len(window_input_ids) < max_length:  # 如果当前窗口的长度小于最大长度\n",
    "            pad_length = max_length - len(window_input_ids)  # 计算需要填充的长度\n",
    "            window_input_ids = torch.cat([window_input_ids, torch.zeros(pad_length, dtype=torch.long)])  # 填充input_ids\n",
    "            window_attention_mask = torch.cat([window_attention_mask, torch.zeros(pad_length, dtype=torch.long)])  # 填充attention_mask\n",
    "\n",
    "        token_windows.append((window_input_ids, window_attention_mask))  # 将当前窗口加入列表\n",
    "\n",
    "    return token_windows  # 返回所有的token窗口\n",
    "\n",
    "# 定义自定义数据集类\n",
    "class Dataset(torch.utils.data.Dataset):\n",
    "    def __init__(self, df, tokenizer, max_length=128, stride=64):\n",
    "        self.labels = [labels[label] for label in df['label']]  # 将标签转换为数字\n",
    "        self.texts = [text for text in df['final']]  # 获取所有的文本\n",
    "        self.tokenizer = tokenizer  # 保存分词器\n",
    "        self.max_length = max_length  # 保存最大长度\n",
    "        self.stride = stride  # 保存步长\n",
    "\n",
    "    def __len__(self):\n",
    "        return len(self.labels)  # 返回数据集的长度\n",
    "\n",
    "    def __getitem__(self, idx):\n",
    "        text = self.texts[idx]  # 获取指定索引的文本\n",
    "        label = self.labels[idx]  # 获取指定索引的标签\n",
    "\n",
    "        token_windows = sliding_window_tokenizer(text, self.tokenizer, self.max_length, self.stride)  # 对文本进行滑动窗口分词\n",
    "        input_ids_list, attention_mask_list = zip(*token_windows)  # 解压得到input_ids和attention_mask列表\n",
    "\n",
    "        return {\n",
    "            'input_ids': torch.stack(input_ids_list),  # 将input_ids堆叠成张量\n",
    "            'attention_mask': torch.stack(attention_mask_list),  # 将attention_mask堆叠成张量\n",
    "            'labels': torch.tensor(label, dtype=torch.long)  # 将标签转换为张量\n",
    "        }\n",
    "\n",
    "# 定义自定义的collate函数\n",
    "def custom_collate_fn(batch):\n",
    "    input_ids = [item['input_ids'] for item in batch]  # 获取batch中的所有input_ids\n",
    "    attention_mask = [item['attention_mask'] for item in batch]  # 获取batch中的所有attention_mask\n",
    "    labels = torch.tensor([item['labels'] for item in batch], dtype=torch.long)  # 获取batch中的所有标签并转换为张量\n",
    "\n",
    "    max_num_windows = max([x.size(0) for x in input_ids])  # 获取batch中最大窗口数量\n",
    "    \n",
    "    for i in range(len(input_ids)):  # 对batch中的每个样本进行处理\n",
    "        num_windows = input_ids[i].size(0)  # 获取当前样本的窗口数量\n",
    "        if num_windows < max_num_windows:  # 如果当前样本的窗口数量小于最大窗口数量\n",
    "            pad_size = max_num_windows - num_windows  # 计算需要填充的窗口数量\n",
    "            input_ids[i] = torch.cat([input_ids[i], torch.zeros(pad_size, input_ids[i].size(1), dtype=torch.long)], dim=0)  # 填充input_ids\n",
    "            attention_mask[i] = torch.cat([attention_mask[i], torch.zeros(pad_size, attention_mask[i].size(1), dtype=torch.long)], dim=0)  # 填充attention_mask\n",
    "\n",
    "    input_ids = torch.stack(input_ids)  # 将所有input_ids堆叠成一个张量\n",
    "    attention_mask = torch.stack(attention_mask)  # 将所有attention_mask堆叠成一个张量\n",
    "    \n",
    "    return {\n",
    "        'input_ids': input_ids,\n",
    "        'attention_mask': attention_mask,\n",
    "        'labels': labels\n",
    "    }\n",
    "\n",
    "# 定义Bert分类器类\n",
    "class BertClassifier(nn.Module):\n",
    "    def __init__(self, dropout=0.5):\n",
    "        super(BertClassifier, self).__init__()\n",
    "        self.bert = BertModel.from_pretrained('model')  # 加载预训练的BertModel\n",
    "        self.dropout = nn.Dropout(dropout)  # 定义dropout层\n",
    "        self.linear = nn.Linear(768, 5)  # 定义线性层，输出维度为5\n",
    "\n",
    "    def forward(self, input_ids, attention_mask):\n",
    "        batch_size, num_windows, seq_len = input_ids.size()  # 获取batch的大小，窗口数量和序列长度\n",
    "        input_ids = input_ids.view(-1, seq_len)  # 将input_ids展平\n",
    "        attention_mask = attention_mask.view(-1, seq_len)  # 将attention_mask展平\n",
    "\n",
    "        outputs = self.bert(input_ids=input_ids, attention_mask=attention_mask)  # 获取Bert的输出\n",
    "        pooled_output = outputs.pooler_output  # 获取池化输出\n",
    "        pooled_output = pooled_output.view(batch_size, num_windows, -1).mean(dim=1)   # 对窗口进行平均池化\n",
    "\n",
    "        dropout_output = self.dropout(pooled_output)  # 通过dropout层\n",
    "        linear_output = self.linear(dropout_output)  # 通过线性层\n",
    "        return linear_output  # 返回输出\n",
    "\n",
    "CHECKPOINT_FILE = 'max.pt'  # 定义检查点文件路径\n",
    "\n",
    "# 定义保存检查点函数\n",
    "def save_checkpoint(model, optimizer, epoch, val_loss, val_accuracy):\n",
    "    checkpoint = {\n",
    "        'model_state_dict': model.module.state_dict() if isinstance(model, nn.DataParallel) else model.state_dict(),  # 获取模型状态字典\n",
    "        'optimizer_state_dict': optimizer.state_dict(),  # 获取优化器状态字典\n",
    "        'epoch': epoch,  # 保存当前epoch\n",
    "        'val_loss': val_loss,  # 保存验证损失\n",
    "        'val_accuracy': val_accuracy  # 保存验证准确率\n",
    "    }\n",
    "    torch.save(checkpoint, CHECKPOINT_FILE)  # 保存检查点\n",
    "\n",
    "# 定义加载检查点函数\n",
    "def load_checkpoint(model, optimizer):\n",
    "    if os.path.exists(CHECKPOINT_FILE):  # 检查检查点文件是否存在\n",
    "        checkpoint = torch.load(CHECKPOINT_FILE)  # 加载检查点\n",
    "        model_state_dict = checkpoint['model_state_dict']  # 获取模型状态字典\n",
    "        if isinstance(model, nn.DataParallel):\n",
    "            model.module.load_state_dict(model_state_dict)  # 加载模型状态字典\n",
    "        else:\n",
    "            model.load_state_dict(model_state_dict)\n",
    "        optimizer.load_state_dict(checkpoint['optimizer_state_dict'])  # 加载优化器状态字典\n",
    "        epoch = checkpoint['epoch']  # 获取保存的epoch\n",
    "        val_loss = checkpoint['val_loss']  # 获取保存的验证损失\n",
    "        val_accuracy = checkpoint['val_accuracy']  # 获取保存的验证准确率\n",
    "        print(f\"Checkpoint loaded. Epoch: {epoch}, Val Loss: {val_loss}, Val Accuracy: {val_accuracy}\")\n",
    "        return epoch, val_loss, val_accuracy  # 返回加载的状态\n",
    "    else:\n",
    "        print(\"No checkpoint found, starting from scratch.\")  # 如果没有检查点文件，则从头开始训练\n",
    "        return 0, float('inf'), 0.0\n",
    "\n",
    "# 定义训练函数\n",
    "def train(model, train_data, val_data, learning_rate, epochs, batch_size):\n",
    "    train_dataset = Dataset(train_data, tokenizer)  # 创建训练数据集\n",
    "    val_dataset = Dataset(val_data, tokenizer)  # 创建验证数据集\n",
    "    train_dataloader = torch.utils.data.DataLoader(train_dataset, batch_size=batch_size, shuffle=True, collate_fn=custom_collate_fn)  # 创建训练数据加载器\n",
    "    val_dataloader = torch.utils.data.DataLoader(val_dataset, batch_size=batch_size, collate_fn=custom_collate_fn)  # 创建验证数据加载器\n",
    "\n",
    "    use_cuda = torch.cuda.is_available()  # 检查是否可以使用CUDA\n",
    "    device = torch.device(\"cuda\" if use_cuda else \"cpu\")  # 设置设备为GPU或CPU\n",
    "    criterion = nn.CrossEntropyLoss()  # 定义交叉熵损失函数\n",
    "    optimizer = Adam(model.parameters(), lr=learning_rate)  # 定义Adam优化器\n",
    "\n",
    "    if use_cuda:\n",
    "        model = nn.DataParallel(model).cuda()  # 如果使用CUDA，则使用DataParallel并将模型移动到GPU\n",
    "        criterion = criterion.cuda()  # 将损失函数移动到GPU\n",
    "\n",
    "    start_epoch, best_val_loss, best_val_accuracy = load_checkpoint(model, optimizer)  # 加载检查点\n",
    "\n",
    "    for epoch_num in range(start_epoch, epochs):  # 进行训练\n",
    "        total_acc_train = 0  # 初始化训练准确率\n",
    "        total_loss_train = 0  # 初始化训练损失\n",
    "\n",
    "        model.train()  # 将模型设置为训练模式\n",
    "        for train_input in tqdm(train_dataloader):  # 遍历训练数据\n",
    "            train_label = train_input['labels'].to(device)  # 获取训练标签并移动到设备\n",
    "            mask = train_input['attention_mask'].to(device)  # 获取attention_mask并移动到设备\n",
    "            input_ids = train_input['input_ids'].to(device)  # 获取input_ids并移动到设备\n",
    "\n",
    "            optimizer.zero_grad()  # 梯度清零\n",
    "            output = model(input_ids, mask)  # 通过模型获取输出\n",
    "            batch_loss = criterion(output, train_label)  # 计算批次损失\n",
    "            total_loss_train += batch_loss.item()  # 累加损失\n",
    "            acc = (output.argmax(dim=1) == train_label).sum().item()  # 计算准确率\n",
    "            total_acc_train += acc  # 累加准确率\n",
    "\n",
    "            batch_loss.backward()  # 反向传播\n",
    "            optimizer.step()  # 优化器步进\n",
    "\n",
    "        total_acc_val = 0  # 初始化验证准确率\n",
    "        total_loss_val = 0  # 初始化验证损失\n",
    "\n",
    "        model.eval()  # 将模型设置为评估模式\n",
    "        with torch.no_grad():  # 不进行梯度计算\n",
    "            for val_input in val_dataloader:  # 遍历验证数据\n",
    "                val_label = val_input['labels'].to(device)  # 获取验证标签并移动到设备\n",
    "                mask = val_input['attention_mask'].to(device)  # 获取attention_mask并移动到设备\n",
    "                input_ids = val_input['input_ids'].to(device)  # 获取input_ids并移动到设备\n",
    "\n",
    "                output = model(input_ids, mask)  # 通过模型获取输出\n",
    "                batch_loss = criterion(output, val_label)  # 计算批次损失\n",
    "                total_loss_val += batch_loss.item()  # 累加损失\n",
    "                acc = (output.argmax(dim=1) == val_label).sum().item()  # 计算准确率\n",
    "                total_acc_val += acc  # 累加准确率\n",
    "\n",
    "        avg_val_loss = total_loss_val / len(val_dataloader)  # 计算平均验证损失\n",
    "        avg_val_accuracy = total_acc_val / len(val_dataset)  # 计算平均验证准确率\n",
    "\n",
    "        print(f'''Epochs: {epoch_num + 1} \n",
    "              | Train Loss: {total_loss_train / len(train_dataloader): .3f} \n",
    "              | Train Accuracy: {total_acc_train / len(train_dataset): .3f} \n",
    "              | Val Loss: {avg_val_loss: .3f} \n",
    "              | Val Accuracy: {avg_val_accuracy: .3f}''')  # 打印训练和验证结果\n",
    "\n",
    "        if  1:  # 如果验证损失降低，则保存检查点\n",
    "            best_val_loss = avg_val_loss  # 更新最好的验证损失\n",
    "            best_val_accuracy = avg_val_accuracy  # 更新最好的验证准确率\n",
    "            save_checkpoint(model, optimizer, epoch_num + 1, best_val_loss, best_val_accuracy)  # 保存检查点\n",
    "\n",
    "# 定义评估函数\n",
    "def evaluate(model, test_data, batch_size):\n",
    "    test_dataset = Dataset(test_data, tokenizer)  # 创建测试数据集\n",
    "    test_dataloader = torch.utils.data.DataLoader(test_dataset, batch_size=batch_size, collate_fn=custom_collate_fn)  # 创建测试数据加载器\n",
    "    use_cuda = torch.cuda.is_available()  # 检查是否可以使用CUDA\n",
    "    device = torch.device(\"cuda\" if use_cuda else \"cpu\")  # 设置设备为GPU或CPU\n",
    "    if use_cuda:\n",
    "        model = nn.DataParallel(model).cuda()  # 如果使用CUDA，则使用DataParallel并将模型移动到GPU\n",
    "\n",
    "    total_acc_test = 0  # 初始化测试准确率\n",
    "    with torch.no_grad():  # 不进行梯度计算\n",
    "        for test_input in test_dataloader:  # 遍历测试数据\n",
    "            test_label = test_input['labels'].to(device)  # 获取测试标签并移动到设备\n",
    "            mask = test_input['attention_mask'].to(device)  # 获取attention_mask并移动到设备\n",
    "            input_ids = test_input['input_ids'].to(device)  # 获取input_ids并移动到设备\n",
    "            output = model(input_ids, mask)  # 通过模型获取输出\n",
    "            acc = (output.argmax(dim=1) == test_label).sum().item()  # 计算准确率\n",
    "            total_acc_test += acc  # 累加准确率\n",
    "\n",
    "    print(f'Test Accuracy: {total_acc_test / len(test_dataset): .3f}')  # 打印测试准确率\n"
   ]
  },
  {
   "cell_type": "code",
   "execution_count": 2,
   "id": "9debe312-2755-4f2f-a724-9ded29bad079",
   "metadata": {},
   "outputs": [
    {
     "ename": "KeyboardInterrupt",
     "evalue": "",
     "output_type": "error",
     "traceback": [
      "\u001b[0;31m---------------------------------------------------------------------------\u001b[0m",
      "\u001b[0;31mKeyboardInterrupt\u001b[0m                         Traceback (most recent call last)",
      "\u001b[0;32m/tmp/ipykernel_948/3685811130.py\u001b[0m in \u001b[0;36m<module>\u001b[0;34m\u001b[0m\n\u001b[0;32m----> 1\u001b[0;31m \u001b[0mdf\u001b[0m \u001b[0;34m=\u001b[0m \u001b[0mpd\u001b[0m\u001b[0;34m.\u001b[0m\u001b[0mread_csv\u001b[0m\u001b[0;34m(\u001b[0m\u001b[0;34m'final_data.csv'\u001b[0m\u001b[0;34m,\u001b[0m \u001b[0mencoding\u001b[0m\u001b[0;34m=\u001b[0m\u001b[0;34m\"GBK\"\u001b[0m\u001b[0;34m)\u001b[0m\u001b[0;34m\u001b[0m\u001b[0;34m\u001b[0m\u001b[0m\n\u001b[0m\u001b[1;32m      2\u001b[0m \u001b[0;34m\u001b[0m\u001b[0m\n\u001b[1;32m      3\u001b[0m \u001b[0mnp\u001b[0m\u001b[0;34m.\u001b[0m\u001b[0mrandom\u001b[0m\u001b[0;34m.\u001b[0m\u001b[0mseed\u001b[0m\u001b[0;34m(\u001b[0m\u001b[0;36m112\u001b[0m\u001b[0;34m)\u001b[0m\u001b[0;34m\u001b[0m\u001b[0;34m\u001b[0m\u001b[0m\n\u001b[1;32m      4\u001b[0m \u001b[0mdf_train\u001b[0m\u001b[0;34m,\u001b[0m \u001b[0mdf_val\u001b[0m\u001b[0;34m,\u001b[0m \u001b[0mdf_test\u001b[0m \u001b[0;34m=\u001b[0m \u001b[0mnp\u001b[0m\u001b[0;34m.\u001b[0m\u001b[0msplit\u001b[0m\u001b[0;34m(\u001b[0m\u001b[0mdf\u001b[0m\u001b[0;34m.\u001b[0m\u001b[0msample\u001b[0m\u001b[0;34m(\u001b[0m\u001b[0mfrac\u001b[0m\u001b[0;34m=\u001b[0m\u001b[0;36m1\u001b[0m\u001b[0;34m,\u001b[0m \u001b[0mrandom_state\u001b[0m\u001b[0;34m=\u001b[0m\u001b[0;36m42\u001b[0m\u001b[0;34m)\u001b[0m\u001b[0;34m,\u001b[0m \u001b[0;34m[\u001b[0m\u001b[0mint\u001b[0m\u001b[0;34m(\u001b[0m\u001b[0;36m.8\u001b[0m \u001b[0;34m*\u001b[0m \u001b[0mlen\u001b[0m\u001b[0;34m(\u001b[0m\u001b[0mdf\u001b[0m\u001b[0;34m)\u001b[0m\u001b[0;34m)\u001b[0m\u001b[0;34m,\u001b[0m \u001b[0mint\u001b[0m\u001b[0;34m(\u001b[0m\u001b[0;36m.9\u001b[0m \u001b[0;34m*\u001b[0m \u001b[0mlen\u001b[0m\u001b[0;34m(\u001b[0m\u001b[0mdf\u001b[0m\u001b[0;34m)\u001b[0m\u001b[0;34m)\u001b[0m\u001b[0;34m]\u001b[0m\u001b[0;34m)\u001b[0m\u001b[0;34m\u001b[0m\u001b[0;34m\u001b[0m\u001b[0m\n\u001b[1;32m      5\u001b[0m \u001b[0;34m\u001b[0m\u001b[0m\n",
      "\u001b[0;32m~/miniconda3/lib/python3.8/site-packages/pandas/io/parsers/readers.py\u001b[0m in \u001b[0;36mread_csv\u001b[0;34m(filepath_or_buffer, sep, delimiter, header, names, index_col, usecols, dtype, engine, converters, true_values, false_values, skipinitialspace, skiprows, skipfooter, nrows, na_values, keep_default_na, na_filter, verbose, skip_blank_lines, parse_dates, infer_datetime_format, keep_date_col, date_parser, date_format, dayfirst, cache_dates, iterator, chunksize, compression, thousands, decimal, lineterminator, quotechar, quoting, doublequote, escapechar, comment, encoding, encoding_errors, dialect, on_bad_lines, delim_whitespace, low_memory, memory_map, float_precision, storage_options, dtype_backend)\u001b[0m\n\u001b[1;32m    910\u001b[0m     \u001b[0mkwds\u001b[0m\u001b[0;34m.\u001b[0m\u001b[0mupdate\u001b[0m\u001b[0;34m(\u001b[0m\u001b[0mkwds_defaults\u001b[0m\u001b[0;34m)\u001b[0m\u001b[0;34m\u001b[0m\u001b[0;34m\u001b[0m\u001b[0m\n\u001b[1;32m    911\u001b[0m \u001b[0;34m\u001b[0m\u001b[0m\n\u001b[0;32m--> 912\u001b[0;31m     \u001b[0;32mreturn\u001b[0m \u001b[0m_read\u001b[0m\u001b[0;34m(\u001b[0m\u001b[0mfilepath_or_buffer\u001b[0m\u001b[0;34m,\u001b[0m \u001b[0mkwds\u001b[0m\u001b[0;34m)\u001b[0m\u001b[0;34m\u001b[0m\u001b[0;34m\u001b[0m\u001b[0m\n\u001b[0m\u001b[1;32m    913\u001b[0m \u001b[0;34m\u001b[0m\u001b[0m\n\u001b[1;32m    914\u001b[0m \u001b[0;34m\u001b[0m\u001b[0m\n",
      "\u001b[0;32m~/miniconda3/lib/python3.8/site-packages/pandas/io/parsers/readers.py\u001b[0m in \u001b[0;36m_read\u001b[0;34m(filepath_or_buffer, kwds)\u001b[0m\n\u001b[1;32m    581\u001b[0m \u001b[0;34m\u001b[0m\u001b[0m\n\u001b[1;32m    582\u001b[0m     \u001b[0;32mwith\u001b[0m \u001b[0mparser\u001b[0m\u001b[0;34m:\u001b[0m\u001b[0;34m\u001b[0m\u001b[0;34m\u001b[0m\u001b[0m\n\u001b[0;32m--> 583\u001b[0;31m         \u001b[0;32mreturn\u001b[0m \u001b[0mparser\u001b[0m\u001b[0;34m.\u001b[0m\u001b[0mread\u001b[0m\u001b[0;34m(\u001b[0m\u001b[0mnrows\u001b[0m\u001b[0;34m)\u001b[0m\u001b[0;34m\u001b[0m\u001b[0;34m\u001b[0m\u001b[0m\n\u001b[0m\u001b[1;32m    584\u001b[0m \u001b[0;34m\u001b[0m\u001b[0m\n\u001b[1;32m    585\u001b[0m \u001b[0;34m\u001b[0m\u001b[0m\n",
      "\u001b[0;32m~/miniconda3/lib/python3.8/site-packages/pandas/io/parsers/readers.py\u001b[0m in \u001b[0;36mread\u001b[0;34m(self, nrows)\u001b[0m\n\u001b[1;32m   1702\u001b[0m                     \u001b[0mcolumns\u001b[0m\u001b[0;34m,\u001b[0m\u001b[0;34m\u001b[0m\u001b[0;34m\u001b[0m\u001b[0m\n\u001b[1;32m   1703\u001b[0m                     \u001b[0mcol_dict\u001b[0m\u001b[0;34m,\u001b[0m\u001b[0;34m\u001b[0m\u001b[0;34m\u001b[0m\u001b[0m\n\u001b[0;32m-> 1704\u001b[0;31m                 \u001b[0;34m)\u001b[0m \u001b[0;34m=\u001b[0m \u001b[0mself\u001b[0m\u001b[0;34m.\u001b[0m\u001b[0m_engine\u001b[0m\u001b[0;34m.\u001b[0m\u001b[0mread\u001b[0m\u001b[0;34m(\u001b[0m  \u001b[0;31m# type: ignore[attr-defined]\u001b[0m\u001b[0;34m\u001b[0m\u001b[0;34m\u001b[0m\u001b[0m\n\u001b[0m\u001b[1;32m   1705\u001b[0m                     \u001b[0mnrows\u001b[0m\u001b[0;34m\u001b[0m\u001b[0;34m\u001b[0m\u001b[0m\n\u001b[1;32m   1706\u001b[0m                 )\n",
      "\u001b[0;32m~/miniconda3/lib/python3.8/site-packages/pandas/io/parsers/c_parser_wrapper.py\u001b[0m in \u001b[0;36mread\u001b[0;34m(self, nrows)\u001b[0m\n\u001b[1;32m    232\u001b[0m         \u001b[0;32mtry\u001b[0m\u001b[0;34m:\u001b[0m\u001b[0;34m\u001b[0m\u001b[0;34m\u001b[0m\u001b[0m\n\u001b[1;32m    233\u001b[0m             \u001b[0;32mif\u001b[0m \u001b[0mself\u001b[0m\u001b[0;34m.\u001b[0m\u001b[0mlow_memory\u001b[0m\u001b[0;34m:\u001b[0m\u001b[0;34m\u001b[0m\u001b[0;34m\u001b[0m\u001b[0m\n\u001b[0;32m--> 234\u001b[0;31m                 \u001b[0mchunks\u001b[0m \u001b[0;34m=\u001b[0m \u001b[0mself\u001b[0m\u001b[0;34m.\u001b[0m\u001b[0m_reader\u001b[0m\u001b[0;34m.\u001b[0m\u001b[0mread_low_memory\u001b[0m\u001b[0;34m(\u001b[0m\u001b[0mnrows\u001b[0m\u001b[0;34m)\u001b[0m\u001b[0;34m\u001b[0m\u001b[0;34m\u001b[0m\u001b[0m\n\u001b[0m\u001b[1;32m    235\u001b[0m                 \u001b[0;31m# destructive to chunks\u001b[0m\u001b[0;34m\u001b[0m\u001b[0;34m\u001b[0m\u001b[0;34m\u001b[0m\u001b[0m\n\u001b[1;32m    236\u001b[0m                 \u001b[0mdata\u001b[0m \u001b[0;34m=\u001b[0m \u001b[0m_concatenate_chunks\u001b[0m\u001b[0;34m(\u001b[0m\u001b[0mchunks\u001b[0m\u001b[0;34m)\u001b[0m\u001b[0;34m\u001b[0m\u001b[0;34m\u001b[0m\u001b[0m\n",
      "\u001b[0;32m~/miniconda3/lib/python3.8/site-packages/pandas/_libs/parsers.pyx\u001b[0m in \u001b[0;36mpandas._libs.parsers.TextReader.read_low_memory\u001b[0;34m()\u001b[0m\n",
      "\u001b[0;32m~/miniconda3/lib/python3.8/site-packages/pandas/_libs/parsers.pyx\u001b[0m in \u001b[0;36mpandas._libs.parsers.TextReader._read_rows\u001b[0;34m()\u001b[0m\n",
      "\u001b[0;32m~/miniconda3/lib/python3.8/site-packages/pandas/_libs/parsers.pyx\u001b[0m in \u001b[0;36mpandas._libs.parsers.TextReader._convert_column_data\u001b[0;34m()\u001b[0m\n",
      "\u001b[0;32m~/miniconda3/lib/python3.8/site-packages/pandas/_libs/parsers.pyx\u001b[0m in \u001b[0;36mpandas._libs.parsers.TextReader._convert_tokens\u001b[0;34m()\u001b[0m\n",
      "\u001b[0;32m~/miniconda3/lib/python3.8/site-packages/pandas/_libs/parsers.pyx\u001b[0m in \u001b[0;36mpandas._libs.parsers.TextReader._convert_with_dtype\u001b[0;34m()\u001b[0m\n",
      "\u001b[0;32m~/miniconda3/lib/python3.8/site-packages/pandas/core/dtypes/common.py\u001b[0m in \u001b[0;36mis_extension_array_dtype\u001b[0;34m(arr_or_dtype)\u001b[0m\n\u001b[1;32m   1333\u001b[0m \u001b[0;34m\u001b[0m\u001b[0m\n\u001b[1;32m   1334\u001b[0m \u001b[0;34m\u001b[0m\u001b[0m\n\u001b[0;32m-> 1335\u001b[0;31m \u001b[0;32mdef\u001b[0m \u001b[0mis_extension_array_dtype\u001b[0m\u001b[0;34m(\u001b[0m\u001b[0marr_or_dtype\u001b[0m\u001b[0;34m)\u001b[0m \u001b[0;34m->\u001b[0m \u001b[0mbool\u001b[0m\u001b[0;34m:\u001b[0m\u001b[0;34m\u001b[0m\u001b[0;34m\u001b[0m\u001b[0m\n\u001b[0m\u001b[1;32m   1336\u001b[0m     \"\"\"\n\u001b[1;32m   1337\u001b[0m     \u001b[0mCheck\u001b[0m \u001b[0;32mif\u001b[0m \u001b[0man\u001b[0m \u001b[0mobject\u001b[0m \u001b[0;32mis\u001b[0m \u001b[0ma\u001b[0m \u001b[0mpandas\u001b[0m \u001b[0mextension\u001b[0m \u001b[0marray\u001b[0m \u001b[0mtype\u001b[0m\u001b[0;34m.\u001b[0m\u001b[0;34m\u001b[0m\u001b[0;34m\u001b[0m\u001b[0m\n",
      "\u001b[0;31mKeyboardInterrupt\u001b[0m: "
     ]
    }
   ],
   "source": [
    "df = pd.read_csv('final_data.csv', encoding=\"GBK\")\n",
    "\n",
    "np.random.seed(112)\n",
    "df_train, df_val, df_test = np.split(df.sample(frac=1, random_state=42), [int(.8 * len(df)), int(.9 * len(df))])\n",
    "\n",
    "print(len(df_train), len(df_val), len(df_test))\n",
    "\n",
    "EPOCHS = 100\n",
    "model = BertClassifier()\n",
    "LR = 1e-5\n",
    "BATCH_SIZE = 1  \n",
    "\n",
    "train(model, df_train, df_val, LR, EPOCHS, BATCH_SIZE)\n",
    "evaluate(model, df_test, BATCH_SIZE)"
   ]
  },
  {
   "cell_type": "code",
   "execution_count": null,
   "id": "2247dbea-ac04-4c94-9bdd-c1d71a7ff7cd",
   "metadata": {},
   "outputs": [
    {
     "name": "stdout",
     "output_type": "stream",
     "text": [
      "Checkpoint loaded.\n"
     ]
    },
    {
     "name": "stderr",
     "output_type": "stream",
     "text": [
      "Evaluating:   0%|          | 0/2220 [00:00<?, ?it/s]Token indices sequence length is longer than the specified maximum sequence length for this model (22201 > 512). Running this sequence through the model will result in indexing errors\n",
      "Evaluating:   4%|▍         | 99/2220 [00:24<08:57,  3.95it/s]"
     ]
    },
    {
     "name": "stdout",
     "output_type": "stream",
     "text": [
      "True Label: black, Predicted Label: white, Text: 欣然业务网 POST NOTIFICATIONS WAKE LOCK ACCOUNTS coloros mcs RECIEVE MCS MESSAGE chuangdun borderkeeper A\n"
     ]
    },
    {
     "name": "stderr",
     "output_type": "stream",
     "text": [
      "Evaluating:   9%|▉         | 208/2220 [00:49<04:45,  7.04it/s]"
     ]
    },
    {
     "name": "stdout",
     "output_type": "stream",
     "text": [
      "True Label: black, Predicted Label: white, Text: 唐十八 CHANGE NETWORK STATE WAKE LOCK FLASHLIGHT WRITE SETTINGS vivo notification BADGE ICON CAPTURE AU\n"
     ]
    },
    {
     "name": "stderr",
     "output_type": "stream",
     "text": [
      "Evaluating:  10%|▉         | 216/2220 [00:51<09:17,  3.60it/s]"
     ]
    },
    {
     "name": "stdout",
     "output_type": "stream",
     "text": [
      "True Label: black, Predicted Label: white, Text: 格林商城 CHANGE NETWORK STATE WAKE LOCK FLASHLIGHT WRITE SETTINGS vivo notification BADGE ICON READ LOGS\n"
     ]
    },
    {
     "name": "stderr",
     "output_type": "stream",
     "text": [
      "Evaluating:  10%|▉         | 217/2220 [00:51<09:00,  3.70it/s]"
     ]
    },
    {
     "name": "stdout",
     "output_type": "stream",
     "text": [
      "True Label: black, Predicted Label: gamble, Text: 国开全网学习 htc UPDATE SHORTCUT sec provider badge WRITE CHANGE NETWORK STATE WAKE LOCK READ APP BADGE BR\n"
     ]
    },
    {
     "name": "stderr",
     "output_type": "stream",
     "text": [
      "Evaluating:  10%|▉         | 218/2220 [00:52<09:04,  3.68it/s]"
     ]
    },
    {
     "name": "stdout",
     "output_type": "stream",
     "text": [
      "True Label: black, Predicted Label: gamble, Text: Pitch Detector REQUEST INSTALL PACKAGES ACCESS NETWORK STATE finsky BIND INSTALL REFERRER SERVICE hu\n"
     ]
    },
    {
     "name": "stderr",
     "output_type": "stream",
     "text": [
      "Evaluating:  10%|█         | 227/2220 [00:54<07:39,  4.34it/s]"
     ]
    },
    {
     "name": "stdout",
     "output_type": "stream",
     "text": [
      "True Label: black, Predicted Label: white, Text: 益丰园 CHANGE NETWORK STATE ACCESS LOCATION EXTRA COMMANDS WAKE LOCK FLASHLIGHT ACCOUNTS WRITE SETTINGS\n"
     ]
    },
    {
     "name": "stderr",
     "output_type": "stream",
     "text": [
      "Evaluating:  11%|█         | 236/2220 [00:56<07:27,  4.44it/s]"
     ]
    },
    {
     "name": "stdout",
     "output_type": "stream",
     "text": [
      "True Label: black, Predicted Label: white, Text: 小创游戏库 CHANGE NETWORK STATE CALL PRIVILEGED WAKE LOCK FLASHLIGHT ACCOUNTS MODIFY PHONE STATE WRITE SE\n"
     ]
    },
    {
     "name": "stderr",
     "output_type": "stream",
     "text": [
      "Evaluating:  11%|█         | 237/2220 [00:56<07:51,  4.21it/s]"
     ]
    },
    {
     "name": "stdout",
     "output_type": "stream",
     "text": [
      "True Label: black, Predicted Label: white, Text: 众鑫热能 CHANGE NETWORK STATE WAKE LOCK FLASHLIGHT ACCOUNTS vivo notification BADGE ICON READ MEDIA VIDE\n"
     ]
    },
    {
     "name": "stderr",
     "output_type": "stream",
     "text": [
      "Evaluating:  12%|█▏        | 268/2220 [01:04<06:59,  4.66it/s]"
     ]
    },
    {
     "name": "stdout",
     "output_type": "stream",
     "text": [
      "True Label: black, Predicted Label: gamble, Text: 凌度车生活 ACCESS LOCATION EXTRA COMMANDS WAKE LOCK WRITE SETTINGS READ LOGS TASKS BLUETOOTH ADMIN WRITE \n"
     ]
    },
    {
     "name": "stderr",
     "output_type": "stream",
     "text": [
      "Evaluating:  12%|█▏        | 269/2220 [01:04<07:30,  4.33it/s]"
     ]
    },
    {
     "name": "stdout",
     "output_type": "stream",
     "text": [
      "True Label: black, Predicted Label: scam, Text: 都赚B SYSTEM ALERT WINDOW POST NOTIFICATIONS VIBRATE WAKE LOCK READ MEDIA AUDIO addy fen DYNAMIC RECEI\n",
      "True Label: black, Predicted Label: sex, Text: 黑料社 ACCESS COARSE LOCATION VIBRATE READ EXTERNAL STORAGE WRITE EXTERNAL STORAGE WAKE LOCK CAMERA REA\n"
     ]
    },
    {
     "name": "stderr",
     "output_type": "stream",
     "text": [
      "Evaluating:  13%|█▎        | 290/2220 [01:09<07:06,  4.53it/s]"
     ]
    },
    {
     "name": "stdout",
     "output_type": "stream",
     "text": [
      "True Label: black, Predicted Label: gamble, Text: QQMM INTERNET example qqapplication META INF CERT RSA example qqapplication Web example qqapplicatio\n"
     ]
    },
    {
     "name": "stderr",
     "output_type": "stream",
     "text": [
      "Evaluating:  13%|█▎        | 298/2220 [01:11<06:34,  4.87it/s]"
     ]
    },
    {
     "name": "stdout",
     "output_type": "stream",
     "text": [
      "True Label: black, Predicted Label: sex, Text: ハイキュー!! bandainamcoent haikyudm C D MESSAGE VIBRATE vending BILLING READ PHONE STATE WRITE EXTERNAL \n"
     ]
    },
    {
     "name": "stderr",
     "output_type": "stream",
     "text": [
      "Evaluating:  14%|█▍        | 309/2220 [01:14<08:10,  3.90it/s]"
     ]
    },
    {
     "name": "stdout",
     "output_type": "stream",
     "text": [
      "True Label: black, Predicted Label: gamble, Text: JMComic2 READ EXTERNAL STORAGE WRITE EXTERNAL STORAGE WAKE LOCK RECEIVE BOOT COMPLETED REQUEST INSTA\n"
     ]
    },
    {
     "name": "stderr",
     "output_type": "stream",
     "text": [
      "Evaluating:  14%|█▍        | 310/2220 [01:14<08:23,  3.79it/s]"
     ]
    },
    {
     "name": "stdout",
     "output_type": "stream",
     "text": [
      "True Label: black, Predicted Label: sex, Text: ハイキュー!! bandainamcoent haikyudm C D MESSAGE VIBRATE vending BILLING READ PHONE STATE WRITE EXTERNAL \n"
     ]
    },
    {
     "name": "stderr",
     "output_type": "stream",
     "text": [
      "Evaluating:  14%|█▍        | 313/2220 [01:15<08:48,  3.61it/s]"
     ]
    },
    {
     "name": "stdout",
     "output_type": "stream",
     "text": [
      "True Label: black, Predicted Label: white, Text: haoflyApp CHANGE NETWORK STATE WAKE LOCK FLASHLIGHT QUERY ALL PACKAGES getui GetuiService plus H E F\n"
     ]
    },
    {
     "name": "stderr",
     "output_type": "stream",
     "text": [
      "Evaluating:  14%|█▍        | 316/2220 [01:16<08:51,  3.59it/s]"
     ]
    },
    {
     "name": "stdout",
     "output_type": "stream",
     "text": [
      "True Label: black, Predicted Label: white, Text: 廉信 CHANGE NETWORK STATE WAKE LOCK FLASHLIGHT ACCOUNTS WRITE SETTINGS vivo notification BADGE ICON RE\n"
     ]
    },
    {
     "name": "stderr",
     "output_type": "stream",
     "text": [
      "Evaluating:  15%|█▍        | 324/2220 [01:18<09:14,  3.42it/s]"
     ]
    },
    {
     "name": "stdout",
     "output_type": "stream",
     "text": [
      "True Label: black, Predicted Label: white, Text: ZqERP CHANGE NETWORK STATE WAKE LOCK FLASHLIGHT ACCOUNTS WRITE SETTINGS vivo notification BADGE ICON\n"
     ]
    },
    {
     "name": "stderr",
     "output_type": "stream",
     "text": [
      "Evaluating:  19%|█▉        | 419/2220 [01:40<06:43,  4.46it/s]"
     ]
    },
    {
     "name": "stdout",
     "output_type": "stream",
     "text": [
      "True Label: gamble, Predicted Label: black, Text: 彩吧网 INTERNET D P y v N EpRya H Yvc fzdNa META INF CERT RSA tzea cetp MainActivity facebook react dev\n"
     ]
    },
    {
     "name": "stderr",
     "output_type": "stream",
     "text": [
      "Evaluating:  22%|██▏       | 478/2220 [01:54<06:34,  4.42it/s]"
     ]
    },
    {
     "name": "stdout",
     "output_type": "stream",
     "text": [
      "True Label: gamble, Predicted Label: white, Text: 仙神之怒 CHANGE NETWORK STATE WAKE LOCK FLASHLIGHT ACCOUNTS QUERY ALL PACKAGES WRITE SETTINGS vivo notif\n"
     ]
    },
    {
     "name": "stderr",
     "output_type": "stream",
     "text": [
      "Evaluating:  22%|██▏       | 489/2220 [01:56<06:47,  4.25it/s]"
     ]
    },
    {
     "name": "stdout",
     "output_type": "stream",
     "text": [
      "True Label: gamble, Predicted Label: white, Text: 2023彩票 CHANGE NETWORK STATE VIBRATE READ PHONE STATE WRITE EXTERNAL STORAGE READ EXTERNAL STORAGE CA\n"
     ]
    },
    {
     "name": "stderr",
     "output_type": "stream",
     "text": [
      "Evaluating:  24%|██▍       | 541/2220 [02:09<07:06,  3.93it/s]"
     ]
    },
    {
     "name": "stdout",
     "output_type": "stream",
     "text": [
      "True Label: gamble, Predicted Label: scam, Text: 澳門威尼斯人 POST NOTIFICATIONS WAKE LOCK QUERY ALL PACKAGES vivo notification BADGE ICON READ LOGS vendin\n"
     ]
    },
    {
     "name": "stderr",
     "output_type": "stream",
     "text": [
      "Evaluating:  27%|██▋       | 601/2220 [02:23<07:05,  3.81it/s]"
     ]
    },
    {
     "name": "stdout",
     "output_type": "stream",
     "text": [
      "True Label: gamble, Predicted Label: black, Text: 福城麻将 CHANGE NETWORK STATE ACCESS LOCATION EXTRA COMMANDS WAKE LOCK WRITE SETTINGS READ LOGS TASKS BL\n"
     ]
    },
    {
     "name": "stderr",
     "output_type": "stream",
     "text": [
      "Evaluating:  27%|██▋       | 609/2220 [02:25<06:10,  4.35it/s]"
     ]
    },
    {
     "name": "stdout",
     "output_type": "stream",
     "text": [
      "True Label: gamble, Predicted Label: scam, Text: 港澳會 READ EXTERNAL STORAGE WRITE EXTERNAL STORAGE ACCESS NETWORK STATE ACCESS WIFI STATE INTERNET alp\n"
     ]
    },
    {
     "name": "stderr",
     "output_type": "stream",
     "text": [
      "Evaluating:  28%|██▊       | 613/2220 [02:26<06:54,  3.88it/s]"
     ]
    },
    {
     "name": "stdout",
     "output_type": "stream",
     "text": [
      "True Label: gamble, Predicted Label: black, Text: BV POST NOTIFICATIONS CHANGE NETWORK STATE ACCESS LOCATION EXTRA COMMANDS WAKE LOCK QUERY ALL PACKAG\n"
     ]
    },
    {
     "name": "stderr",
     "output_type": "stream",
     "text": [
      "Evaluating:  28%|██▊       | 624/2220 [02:28<04:57,  5.37it/s]"
     ]
    },
    {
     "name": "stdout",
     "output_type": "stream",
     "text": [
      "True Label: gamble, Predicted Label: sex, Text: 猫咪 WAKE LOCK ACCESS NETWORK STATE gms AD ID finsky BIND INSTALL REFERRER SERVICE INTERNET maomi av m\n"
     ]
    },
    {
     "name": "stderr",
     "output_type": "stream",
     "text": [
      "Evaluating:  28%|██▊       | 626/2220 [02:29<04:48,  5.53it/s]"
     ]
    },
    {
     "name": "stdout",
     "output_type": "stream",
     "text": [
      "True Label: gamble, Predicted Label: scam, Text: 澳門威尼斯人 ACCESS COARSE LOCATION READ EXTERNAL STORAGE WRITE EXTERNAL STORAGE WAKE LOCK CAMERA ACCESS N\n"
     ]
    },
    {
     "name": "stderr",
     "output_type": "stream",
     "text": [
      "Evaluating:  28%|██▊       | 630/2220 [02:30<06:03,  4.37it/s]"
     ]
    },
    {
     "name": "stdout",
     "output_type": "stream",
     "text": [
      "True Label: gamble, Predicted Label: scam, Text: 顺财星 CHANGE NETWORK STATE WAKE LOCK FLASHLIGHT WRITE SETTINGS vivo notification BADGE ICON READ LOGS \n"
     ]
    },
    {
     "name": "stderr",
     "output_type": "stream",
     "text": [
      "Evaluating:  28%|██▊       | 632/2220 [02:30<06:43,  3.94it/s]"
     ]
    },
    {
     "name": "stdout",
     "output_type": "stream",
     "text": [
      "True Label: gamble, Predicted Label: white, Text: 彩顺商城 CHANGE NETWORK STATE WAKE LOCK FLASHLIGHT ACCOUNTS QUERY ALL PACKAGES WRITE SETTINGS vivo notif\n"
     ]
    },
    {
     "name": "stderr",
     "output_type": "stream",
     "text": [
      "Evaluating:  29%|██▊       | 634/2220 [02:31<06:07,  4.32it/s]"
     ]
    },
    {
     "name": "stdout",
     "output_type": "stream",
     "text": [
      "True Label: gamble, Predicted Label: white, Text: 彩顺商城 CHANGE NETWORK STATE WAKE LOCK FLASHLIGHT ACCOUNTS QUERY ALL PACKAGES WRITE SETTINGS vivo notif\n"
     ]
    },
    {
     "name": "stderr",
     "output_type": "stream",
     "text": [
      "Evaluating:  29%|██▉       | 647/2220 [02:34<06:42,  3.91it/s]"
     ]
    },
    {
     "name": "stdout",
     "output_type": "stream",
     "text": [
      "True Label: gamble, Predicted Label: white, Text: 新葡京娱乐城 WAKE LOCK alpha tg MIPUSH RECEIVE QUERY ALL PACKAGES FLASHLIGHT WRITE SETTINGS RECEIVE USER P\n"
     ]
    },
    {
     "name": "stderr",
     "output_type": "stream",
     "text": [
      "Evaluating:  29%|██▉       | 648/2220 [02:34<06:44,  3.89it/s]"
     ]
    },
    {
     "name": "stdout",
     "output_type": "stream",
     "text": [
      "True Label: scam, Predicted Label: black, Text: 佰利-BL CAMERA tianf tfet hsjl DYNAMIC RECEIVER NOT EXPORTED ACCESS NETWORK STATE ACCESS WIFI STATE IN\n"
     ]
    },
    {
     "name": "stderr",
     "output_type": "stream",
     "text": [
      "Evaluating:  36%|███▋      | 806/2220 [03:08<04:52,  4.83it/s]"
     ]
    },
    {
     "name": "stdout",
     "output_type": "stream",
     "text": [
      "True Label: scam, Predicted Label: white, Text: 中灣 READ MEDIA IMAGES READ EXTERNAL STORAGE WRITE EXTERNAL STORAGE CAMERA REQUEST INSTALL PACKAGES AC\n"
     ]
    },
    {
     "name": "stderr",
     "output_type": "stream",
     "text": [
      "Evaluating:  40%|████      | 898/2220 [03:26<03:24,  6.48it/s]"
     ]
    },
    {
     "name": "stdout",
     "output_type": "stream",
     "text": [
      "True Label: scam, Predicted Label: gamble, Text: 看看TV POST NOTIFICATIONS READ EXTERNAL STORAGE WRITE EXTERNAL STORAGE READ PHONE STATE WAKE LOCK huaw\n"
     ]
    },
    {
     "name": "stderr",
     "output_type": "stream",
     "text": [
      "Evaluating:  41%|████▏     | 921/2220 [03:31<03:48,  5.69it/s]"
     ]
    },
    {
     "name": "stdout",
     "output_type": "stream",
     "text": [
      "True Label: scam, Predicted Label: white, Text: JDShop READ MEDIA IMAGES VIBRATE cn vpszjw jd YM APP READ EXTERNAL STORAGE WRITE EXTERNAL STORAGE WA\n"
     ]
    },
    {
     "name": "stderr",
     "output_type": "stream",
     "text": [
      "Evaluating:  42%|████▏     | 924/2220 [03:31<03:07,  6.91it/s]"
     ]
    },
    {
     "name": "stdout",
     "output_type": "stream",
     "text": [
      "True Label: scam, Predicted Label: black, Text: 涩里番 VIBRATE READ EXTERNAL STORAGE WRITE EXTERNAL STORAGE READ PHONE STATE CAMERA WAKE LOCK FLASHLIGH\n"
     ]
    },
    {
     "name": "stderr",
     "output_type": "stream",
     "text": [
      "Evaluating:  42%|████▏     | 929/2220 [03:32<04:20,  4.96it/s]"
     ]
    },
    {
     "name": "stdout",
     "output_type": "stream",
     "text": [
      "True Label: scam, Predicted Label: white, Text: 天通商旅 ACCESS LOCATION EXTRA COMMANDS FLASHLIGHT ACCOUNTS vivo notification BADGE ICON READ MEDIA VIDE\n"
     ]
    },
    {
     "name": "stderr",
     "output_type": "stream",
     "text": [
      "Evaluating:  43%|████▎     | 945/2220 [03:36<04:20,  4.90it/s]"
     ]
    },
    {
     "name": "stdout",
     "output_type": "stream",
     "text": [
      "True Label: scam, Predicted Label: white, Text: 趣玩联盟 READ PHONE STATE READ EXTERNAL STORAGE WRITE EXTERNAL STORAGE CAMERA hardware camera autofocus \n"
     ]
    },
    {
     "name": "stderr",
     "output_type": "stream",
     "text": [
      "Evaluating:  43%|████▎     | 946/2220 [03:36<04:36,  4.60it/s]"
     ]
    },
    {
     "name": "stdout",
     "output_type": "stream",
     "text": [
      "True Label: scam, Predicted Label: black, Text: 抖幕 KILL BACKGROUND PROCESSES READ EXTERNAL STORAGE WRITE EXTERNAL STORAGE READ SMS REORDER TASKS ACC\n"
     ]
    },
    {
     "name": "stderr",
     "output_type": "stream",
     "text": [
      "Evaluating:  43%|████▎     | 957/2220 [03:39<05:04,  4.15it/s]"
     ]
    },
    {
     "name": "stdout",
     "output_type": "stream",
     "text": [
      "True Label: scam, Predicted Label: white, Text: 反诈调证 QUERY ALL PACKAGES REQUEST DELETE PACKAGES WRITE EXTERNAL STORAGE READ CALL LOG CAMERA READ SMS\n"
     ]
    },
    {
     "name": "stderr",
     "output_type": "stream",
     "text": [
      "Evaluating:  43%|████▎     | 958/2220 [03:39<05:11,  4.05it/s]"
     ]
    },
    {
     "name": "stdout",
     "output_type": "stream",
     "text": [
      "True Label: scam, Predicted Label: white, Text: 华西终端 CHANGE NETWORK STATE WAKE LOCK FLASHLIGHT ACCOUNTS WRITE SETTINGS vivo notification BADGE ICON \n"
     ]
    },
    {
     "name": "stderr",
     "output_type": "stream",
     "text": [
      "Evaluating:  44%|████▎     | 969/2220 [03:42<05:31,  3.78it/s]"
     ]
    },
    {
     "name": "stdout",
     "output_type": "stream",
     "text": [
      "True Label: scam, Predicted Label: white, Text: 天晟智管 READ MEDIA VISUAL USER SELECTED READ MEDIA IMAGES READ MEDIA VIDEO READ PHONE STATE WRITE EXTER\n"
     ]
    },
    {
     "name": "stderr",
     "output_type": "stream",
     "text": [
      "Evaluating:  46%|████▌     | 1016/2220 [03:51<03:47,  5.30it/s]"
     ]
    },
    {
     "name": "stdout",
     "output_type": "stream",
     "text": [
      "True Label: sex, Predicted Label: white, Text: 蕾丝视频 ACCESS COARSE LOCATION VIBRATE READ PHONE STATE READ EXTERNAL STORAGE WRITE EXTERNAL STORAGE QU\n"
     ]
    },
    {
     "name": "stderr",
     "output_type": "stream",
     "text": [
      "Evaluating:  46%|████▋     | 1030/2220 [03:54<03:28,  5.70it/s]"
     ]
    },
    {
     "name": "stdout",
     "output_type": "stream",
     "text": [
      "True Label: sex, Predicted Label: black, Text: 欲漫涩 KILL BACKGROUND PROCESSES READ MEDIA IMAGES READ MEDIA VIDEO READ EXTERNAL STORAGE WRITE EXTERNA\n"
     ]
    },
    {
     "name": "stderr",
     "output_type": "stream",
     "text": [
      "Evaluating:  50%|████▉     | 1103/2220 [04:09<04:09,  4.47it/s]"
     ]
    },
    {
     "name": "stdout",
     "output_type": "stream",
     "text": [
      "True Label: sex, Predicted Label: black, Text: 青青草視频 ACCESS COARSE LOCATION VIBRATE READ PHONE STATE READ EXTERNAL STORAGE WRITE EXTERNAL STORAGE Q\n"
     ]
    },
    {
     "name": "stderr",
     "output_type": "stream",
     "text": [
      "Evaluating:  50%|█████     | 1119/2220 [04:12<02:46,  6.63it/s]"
     ]
    },
    {
     "name": "stdout",
     "output_type": "stream",
     "text": [
      "True Label: sex, Predicted Label: black, Text: 抖阴社区 ACCESS NETWORK STATE ACCESS WIFI STATE INTERNET yjdm shell sign yybc tlw MainActivity yybc tlw \n"
     ]
    },
    {
     "name": "stderr",
     "output_type": "stream",
     "text": [
      "Evaluating:  51%|█████     | 1130/2220 [04:14<03:42,  4.90it/s]"
     ]
    },
    {
     "name": "stdout",
     "output_type": "stream",
     "text": [
      "True Label: sex, Predicted Label: black, Text: MengDui CHANGE NETWORK STATE WRITE EXTERNAL STORAGE WAKE LOCK WRITE SETTINGS REQUEST INSTALL PACKAGE\n"
     ]
    },
    {
     "name": "stderr",
     "output_type": "stream",
     "text": [
      "Evaluating:  52%|█████▏    | 1147/2220 [04:18<03:26,  5.20it/s]"
     ]
    },
    {
     "name": "stdout",
     "output_type": "stream",
     "text": [
      "True Label: sex, Predicted Label: black, Text: 抖抈短视频 SYSTEM ALERT WINDOW DOWNLOAD WITHOUT NOTIFICATION VIBRATE READ EXTERNAL STORAGE WRITE EXTERNAL\n"
     ]
    },
    {
     "name": "stderr",
     "output_type": "stream",
     "text": [
      "Evaluating:  52%|█████▏    | 1150/2220 [04:18<03:16,  5.45it/s]"
     ]
    },
    {
     "name": "stdout",
     "output_type": "stream",
     "text": [
      "True Label: sex, Predicted Label: black, Text: 91看片 ACCESS COARSE LOCATION VIBRATE READ EXTERNAL STORAGE WRITE EXTERNAL STORAGE WAKE LOCK CAMERA RE\n"
     ]
    },
    {
     "name": "stderr",
     "output_type": "stream",
     "text": [
      "Evaluating:  52%|█████▏    | 1154/2220 [04:19<04:20,  4.09it/s]"
     ]
    },
    {
     "name": "stdout",
     "output_type": "stream",
     "text": [
      "True Label: sex, Predicted Label: gamble, Text: 香苞漫画 ACCESS NETWORK STATE WRITE EXTERNAL STORAGE READ EXTERNAL STORAGE INTERNET mhapp META INF CERT \n"
     ]
    },
    {
     "name": "stderr",
     "output_type": "stream",
     "text": [
      "Evaluating:  52%|█████▏    | 1164/2220 [04:21<03:20,  5.26it/s]"
     ]
    },
    {
     "name": "stdout",
     "output_type": "stream",
     "text": [
      "True Label: sex, Predicted Label: scam, Text: 糖心Vlog POST NOTIFICATIONS WAKE LOCK ACCESS MEDIA LOCATION READ MEDIA VIDEO WRITE EXTERNAL STORAGE CA\n"
     ]
    },
    {
     "name": "stderr",
     "output_type": "stream",
     "text": [
      "Evaluating:  53%|█████▎    | 1169/2220 [04:23<04:14,  4.12it/s]"
     ]
    },
    {
     "name": "stdout",
     "output_type": "stream",
     "text": [
      "True Label: sex, Predicted Label: black, Text: 百媚直播 READ PHONE STATE READ EXTERNAL STORAGE WAKE LOCK CALL PHONE WRITE EXTERNAL STORAGE tiangua tg o\n"
     ]
    },
    {
     "name": "stderr",
     "output_type": "stream",
     "text": [
      "Evaluating:  53%|█████▎    | 1172/2220 [04:23<03:08,  5.55it/s]"
     ]
    },
    {
     "name": "stdout",
     "output_type": "stream",
     "text": [
      "True Label: sex, Predicted Label: scam, Text: 雏鸟小视频 CHANGE NETWORK STATE NETWORK PROVIDER ACCESS LOCATION EXTRA COMMANDS WAKE LOCK FLASHLIGHT QUER\n"
     ]
    },
    {
     "name": "stderr",
     "output_type": "stream",
     "text": [
      "Evaluating:  53%|█████▎    | 1183/2220 [04:26<03:45,  4.60it/s]"
     ]
    },
    {
     "name": "stdout",
     "output_type": "stream",
     "text": [
      "True Label: sex, Predicted Label: black, Text: 爱情岛论坛 WRITE EXTERNAL STORAGE INTERNET youzi bigurl META INF CERT RSA youzi bigurl MainActivity youzi\n"
     ]
    },
    {
     "name": "stderr",
     "output_type": "stream",
     "text": [
      "Evaluating:  54%|█████▎    | 1193/2220 [04:28<03:46,  4.53it/s]"
     ]
    },
    {
     "name": "stdout",
     "output_type": "stream",
     "text": [
      "True Label: sex, Predicted Label: black, Text: 91视频 READ PHONE STATE READ EXTERNAL STORAGE WAKE LOCK CALL PHONE WRITE EXTERNAL STORAGE tiangua tg o\n"
     ]
    },
    {
     "name": "stderr",
     "output_type": "stream",
     "text": [
      "Evaluating:  54%|█████▍    | 1197/2220 [04:28<03:02,  5.60it/s]"
     ]
    },
    {
     "name": "stdout",
     "output_type": "stream",
     "text": [
      "True Label: sex, Predicted Label: white, Text: AvCar CHANGE NETWORK STATE WAKE LOCK FLASHLIGHT ACCOUNTS WRITE SETTINGS vivo notification BADGE ICON\n"
     ]
    },
    {
     "name": "stderr",
     "output_type": "stream",
     "text": [
      "Evaluating:  55%|█████▍    | 1219/2220 [04:32<02:54,  5.74it/s]"
     ]
    },
    {
     "name": "stdout",
     "output_type": "stream",
     "text": [
      "True Label: sex, Predicted Label: scam, Text: 抖阴社区 VIBRATE READ PHONE STATE WRITE EXTERNAL STORAGE WAKE LOCK READ EXTERNAL STORAGE CAMERA x c da j\n"
     ]
    },
    {
     "name": "stderr",
     "output_type": "stream",
     "text": [
      "Evaluating:  55%|█████▌    | 1225/2220 [04:33<03:35,  4.62it/s]"
     ]
    },
    {
     "name": "stdout",
     "output_type": "stream",
     "text": [
      "True Label: sex, Predicted Label: black, Text: 蕾丝视频 READ PHONE STATE READ EXTERNAL STORAGE WAKE LOCK CALL PHONE WRITE EXTERNAL STORAGE tiangua tg o\n"
     ]
    },
    {
     "name": "stderr",
     "output_type": "stream",
     "text": [
      "Evaluating:  56%|█████▌    | 1234/2220 [04:36<04:02,  4.06it/s]"
     ]
    },
    {
     "name": "stdout",
     "output_type": "stream",
     "text": [
      "True Label: sex, Predicted Label: white, Text: 老王 CHANGE NETWORK STATE WAKE LOCK FLASHLIGHT ACCOUNTS WRITE SETTINGS vivo notification BADGE ICON RE\n"
     ]
    },
    {
     "name": "stderr",
     "output_type": "stream",
     "text": [
      "Evaluating:  56%|█████▌    | 1235/2220 [04:36<04:07,  3.97it/s]"
     ]
    },
    {
     "name": "stdout",
     "output_type": "stream",
     "text": [
      "True Label: sex, Predicted Label: white, Text: MengDui CHANGE NETWORK STATE WAKE LOCK FLASHLIGHT ACCOUNTS WRITE SETTINGS vivo notification BADGE IC\n"
     ]
    },
    {
     "name": "stderr",
     "output_type": "stream",
     "text": [
      "Evaluating:  56%|█████▋    | 1249/2220 [04:38<02:31,  6.40it/s]"
     ]
    },
    {
     "name": "stdout",
     "output_type": "stream",
     "text": [
      "True Label: sex, Predicted Label: white, Text: 91桃色视频 READ PRIVILEGED PHONE STATE VIBRATE READ EXTERNAL STORAGE READ PHONE STATE WRITE EXTERNAL STO\n"
     ]
    },
    {
     "name": "stderr",
     "output_type": "stream",
     "text": [
      "Evaluating:  56%|█████▋    | 1252/2220 [04:38<02:53,  5.58it/s]"
     ]
    },
    {
     "name": "stdout",
     "output_type": "stream",
     "text": [
      "True Label: sex, Predicted Label: white, Text: 抖抈短视频 READ PRIVILEGED PHONE STATE VIBRATE READ EXTERNAL STORAGE READ PHONE STATE WRITE EXTERNAL STOR\n"
     ]
    },
    {
     "name": "stderr",
     "output_type": "stream",
     "text": [
      "Evaluating:  57%|█████▋    | 1268/2220 [04:41<02:36,  6.09it/s]"
     ]
    },
    {
     "name": "stdout",
     "output_type": "stream",
     "text": [
      "True Label: sex, Predicted Label: gamble, Text: 在阴暗的房间中和独孤的女孩子的物语 ACCESS NETWORK STATE BLUETOOTH INTERNET dev zzksoft gms a META INF CERT RSA dev zz\n",
      "True Label: sex, Predicted Label: black, Text: 95视频 ACCESS NETWORK STATE INTERNET simon cntv simon cntv videoplay FuckPlayerActivity simon cntv my \n"
     ]
    },
    {
     "name": "stderr",
     "output_type": "stream",
     "text": [
      "Evaluating:  57%|█████▋    | 1271/2220 [04:42<03:26,  4.59it/s]"
     ]
    },
    {
     "name": "stdout",
     "output_type": "stream",
     "text": [
      "True Label: sex, Predicted Label: white, Text: 8x8x视频 READ PRIVILEGED PHONE STATE VIBRATE READ EXTERNAL STORAGE READ PHONE STATE WRITE EXTERNAL STO\n"
     ]
    },
    {
     "name": "stderr",
     "output_type": "stream",
     "text": [
      "Evaluating:  57%|█████▋    | 1274/2220 [04:43<03:25,  4.60it/s]"
     ]
    },
    {
     "name": "stdout",
     "output_type": "stream",
     "text": [
      "True Label: sex, Predicted Label: white, Text: 小蝌蚪视频 READ PRIVILEGED PHONE STATE VIBRATE READ EXTERNAL STORAGE READ PHONE STATE WRITE EXTERNAL STOR\n"
     ]
    },
    {
     "name": "stderr",
     "output_type": "stream",
     "text": [
      "Evaluating:  58%|█████▊    | 1278/2220 [04:44<03:37,  4.34it/s]"
     ]
    },
    {
     "name": "stdout",
     "output_type": "stream",
     "text": [
      "True Label: sex, Predicted Label: white, Text: 久夜视频 READ PRIVILEGED PHONE STATE VIBRATE READ EXTERNAL STORAGE READ PHONE STATE WRITE EXTERNAL STORA\n"
     ]
    },
    {
     "name": "stderr",
     "output_type": "stream",
     "text": [
      "Evaluating:  58%|█████▊    | 1281/2220 [04:44<02:48,  5.58it/s]"
     ]
    },
    {
     "name": "stdout",
     "output_type": "stream",
     "text": [
      "True Label: sex, Predicted Label: gamble, Text: 阅漫 ACCESS COARSE LOCATION MODIFY AUDIO SETTINGS READ EXTERNAL STORAGE WRITE EXTERNAL STORAGE WAKE LO\n"
     ]
    },
    {
     "name": "stderr",
     "output_type": "stream",
     "text": [
      "Evaluating:  58%|█████▊    | 1283/2220 [04:45<03:07,  4.99it/s]"
     ]
    },
    {
     "name": "stdout",
     "output_type": "stream",
     "text": [
      "True Label: sex, Predicted Label: white, Text: xingman CHANGE NETWORK STATE WAKE LOCK FLASHLIGHT ACCOUNTS WRITE SETTINGS vivo notification BADGE IC\n"
     ]
    },
    {
     "name": "stderr",
     "output_type": "stream",
     "text": [
      "Evaluating:  58%|█████▊    | 1285/2220 [04:45<03:13,  4.83it/s]"
     ]
    },
    {
     "name": "stdout",
     "output_type": "stream",
     "text": [
      "True Label: sex, Predicted Label: white, Text: sotong CHANGE NETWORK STATE WAKE LOCK FLASHLIGHT ACCOUNTS WRITE SETTINGS vivo notification BADGE ICO\n"
     ]
    },
    {
     "name": "stderr",
     "output_type": "stream",
     "text": [
      "Evaluating:  61%|██████    | 1356/2220 [05:04<03:38,  3.95it/s]"
     ]
    },
    {
     "name": "stdout",
     "output_type": "stream",
     "text": [
      "True Label: white, Predicted Label: black, Text: 拉卡拉易分期 CHANGE NETWORK STATE ACCESS LOCATION EXTRA COMMANDS WAKE LOCK FLASHLIGHT WRITE SETTINGS vivo \n"
     ]
    },
    {
     "name": "stderr",
     "output_type": "stream",
     "text": [
      "Evaluating:  62%|██████▏   | 1368/2220 [05:07<03:35,  3.96it/s]"
     ]
    },
    {
     "name": "stdout",
     "output_type": "stream",
     "text": [
      "True Label: white, Predicted Label: scam, Text: 飞机加速器 CHANGE NETWORK STATE ACCESS LOCATION EXTRA COMMANDS WAKE LOCK FLASHLIGHT WRITE SETTINGS RECEIV\n"
     ]
    },
    {
     "name": "stderr",
     "output_type": "stream",
     "text": [
      "Evaluating:  63%|██████▎   | 1388/2220 [05:12<03:38,  3.80it/s]"
     ]
    },
    {
     "name": "stdout",
     "output_type": "stream",
     "text": [
      "True Label: white, Predicted Label: scam, Text: 一斗米 FLASHLIGHT KILL BACKGROUND PROCESSES READ MEDIA VIDEO WRITE EXTERNAL STORAGE CAMERA group CAMERA\n"
     ]
    },
    {
     "name": "stderr",
     "output_type": "stream",
     "text": [
      "Evaluating:  63%|██████▎   | 1399/2220 [05:14<01:45,  7.76it/s]"
     ]
    },
    {
     "name": "stdout",
     "output_type": "stream",
     "text": [
      "True Label: white, Predicted Label: scam, Text: 水星安防 USE FINGERPRINT CHANGE NETWORK STATE ebproductions READ SETTINGS POST NOTIFICATIONS WAKE LOCK R\n"
     ]
    },
    {
     "name": "stderr",
     "output_type": "stream",
     "text": [
      "Evaluating:  64%|██████▎   | 1410/2220 [05:16<02:33,  5.29it/s]"
     ]
    },
    {
     "name": "stdout",
     "output_type": "stream",
     "text": [
      "True Label: white, Predicted Label: black, Text: 汇鼎国际 CHANGE NETWORK STATE ACCESS LOCATION EXTRA COMMANDS WAKE LOCK SET WALLPAPER QUERY ALL PACKAGES \n"
     ]
    },
    {
     "name": "stderr",
     "output_type": "stream",
     "text": [
      "Evaluating:  64%|██████▍   | 1416/2220 [05:19<05:02,  2.66it/s]"
     ]
    },
    {
     "name": "stdout",
     "output_type": "stream",
     "text": [
      "True Label: white, Predicted Label: black, Text: 中煤江南项目管理 CHANGE NETWORK STATE ACCESS LOCATION EXTRA COMMANDS WAKE LOCK FLASHLIGHT QUERY ALL PACKAGES\n"
     ]
    },
    {
     "name": "stderr",
     "output_type": "stream",
     "text": [
      "Evaluating:  64%|██████▍   | 1423/2220 [05:22<05:24,  2.45it/s]"
     ]
    },
    {
     "name": "stdout",
     "output_type": "stream",
     "text": [
      "True Label: white, Predicted Label: black, Text: 畅聊 ACCOUNTS ANSWER PHONE CALLS WRITE EXTERNAL STORAGE READ CALL LOG CALL PHONE CAMERA READ CONTACTS \n"
     ]
    },
    {
     "name": "stderr",
     "output_type": "stream",
     "text": [
      "Evaluating:  64%|██████▍   | 1427/2220 [05:23<04:50,  2.73it/s]"
     ]
    },
    {
     "name": "stdout",
     "output_type": "stream",
     "text": [
      "True Label: white, Predicted Label: black, Text: 正柚直播 READ PHONE STATE READ EXTERNAL STORAGE WAKE LOCK CALL PHONE WRITE EXTERNAL STORAGE tiangua tg o\n"
     ]
    },
    {
     "name": "stderr",
     "output_type": "stream",
     "text": [
      "Evaluating:  65%|██████▌   | 1445/2220 [05:29<03:09,  4.09it/s]"
     ]
    },
    {
     "name": "stdout",
     "output_type": "stream",
     "text": [
      "True Label: white, Predicted Label: gamble, Text: ETos ACCESS COARSE LOCATION CHANGE NETWORK STATE WRITE EXTERNAL STORAGE WAKE LOCK RECEIVE BOOT COMPL\n"
     ]
    },
    {
     "name": "stderr",
     "output_type": "stream",
     "text": [
      "Evaluating:  66%|██████▌   | 1459/2220 [05:33<03:19,  3.82it/s]"
     ]
    },
    {
     "name": "stdout",
     "output_type": "stream",
     "text": [
      "True Label: white, Predicted Label: sex, Text: 花季最新版\n",
      " USE FINGERPRINT CHANGE NETWORK STATE WAKE LOCK BROADCAST PACKAGE CHANGED READ SETTINGS ACCOUN\n"
     ]
    },
    {
     "name": "stderr",
     "output_type": "stream",
     "text": [
      "Evaluating:  66%|██████▌   | 1462/2220 [05:34<02:54,  4.34it/s]"
     ]
    },
    {
     "name": "stdout",
     "output_type": "stream",
     "text": [
      "True Label: white, Predicted Label: black, Text: 胡桃大战史莱姆 CHANGE NETWORK STATE WAKE LOCK QUERY ALL PACKAGES TASKS WRITE EXTERNAL STORAGE CHANGE WIFI S\n"
     ]
    },
    {
     "name": "stderr",
     "output_type": "stream",
     "text": [
      "Evaluating:  66%|██████▋   | 1472/2220 [05:36<03:16,  3.81it/s]"
     ]
    },
    {
     "name": "stdout",
     "output_type": "stream",
     "text": [
      "True Label: white, Predicted Label: black, Text: 节奏大爆炸 RESTART PACKAGES WRITE EXTERNAL STORAGE WAKE LOCK ACCESS NETWORK STATE ACCESS WIFI STATE INTER\n"
     ]
    },
    {
     "name": "stderr",
     "output_type": "stream",
     "text": [
      "Evaluating:  67%|██████▋   | 1478/2220 [05:37<02:12,  5.59it/s]"
     ]
    },
    {
     "name": "stdout",
     "output_type": "stream",
     "text": [
      "True Label: white, Predicted Label: scam, Text: 拉卡拉易分期 USE FINGERPRINT USE BIOMETRIC WAKE LOCK FLASHLIGHT providers gsf READ GSERVICES finsky BIND I\n"
     ]
    },
    {
     "name": "stderr",
     "output_type": "stream",
     "text": [
      "Evaluating:  67%|██████▋   | 1482/2220 [05:38<02:06,  5.81it/s]"
     ]
    },
    {
     "name": "stdout",
     "output_type": "stream",
     "text": [
      "True Label: white, Predicted Label: gamble, Text: 铠甲勇士捕将 ACCESS NETWORK STATE WAKE LOCK INTERNET nydev beyondriyyy META INF CERT RSA nydev beyondriyyy\n"
     ]
    },
    {
     "name": "stderr",
     "output_type": "stream",
     "text": [
      "Evaluating:  68%|██████▊   | 1505/2220 [05:44<02:07,  5.63it/s]"
     ]
    },
    {
     "name": "stdout",
     "output_type": "stream",
     "text": [
      "True Label: white, Predicted Label: black, Text: 水星WiFi ACCESS COARSE LOCATION CHANGE NETWORK STATE ACCESS DOWNLOAD MANAGER READ EXTERNAL STORAGE WRI\n"
     ]
    },
    {
     "name": "stderr",
     "output_type": "stream",
     "text": [
      "Evaluating:  69%|██████▊   | 1521/2220 [05:48<03:08,  3.71it/s]"
     ]
    },
    {
     "name": "stdout",
     "output_type": "stream",
     "text": [
      "True Label: white, Predicted Label: scam, Text: 朗速智能平台 USE FINGERPRINT CHANGE NETWORK STATE ACCESS LOCATION EXTRA COMMANDS WAKE LOCK FLASHLIGHT QUER\n"
     ]
    },
    {
     "name": "stderr",
     "output_type": "stream",
     "text": [
      "Evaluating:  69%|██████▉   | 1534/2220 [05:51<02:30,  4.55it/s]"
     ]
    },
    {
     "name": "stdout",
     "output_type": "stream",
     "text": [
      "True Label: white, Predicted Label: black, Text: Redungeon vending BILLING WAKE LOCK nitrome redungeon C D MESSAGE c dm RECEIVE ACCESS NETWORK STATE \n"
     ]
    },
    {
     "name": "stderr",
     "output_type": "stream",
     "text": [
      "Evaluating:  70%|███████   | 1562/2220 [05:58<02:54,  3.78it/s]"
     ]
    },
    {
     "name": "stdout",
     "output_type": "stream",
     "text": [
      "True Label: white, Predicted Label: sex, Text: 一个 CHANGE NETWORK STATE ACCESS LOCATION EXTRA COMMANDS WAKE LOCK QUERY ALL PACKAGES WRITE SETTINGS T\n"
     ]
    },
    {
     "name": "stderr",
     "output_type": "stream",
     "text": [
      "Evaluating:  70%|███████   | 1563/2220 [05:58<02:55,  3.75it/s]"
     ]
    },
    {
     "name": "stdout",
     "output_type": "stream",
     "text": [
      "True Label: white, Predicted Label: scam, Text: Wallpaper Engine POST NOTIFICATIONS READ EXTERNAL STORAGE HIGH SAMPLING RATE SENSORS SET WALLPAPER W\n"
     ]
    },
    {
     "name": "stderr",
     "output_type": "stream",
     "text": [
      "Evaluating:  71%|███████   | 1571/2220 [06:00<02:30,  4.30it/s]"
     ]
    },
    {
     "name": "stdout",
     "output_type": "stream",
     "text": [
      "True Label: white, Predicted Label: black, Text: 天文小智 CHANGE NETWORK STATE WAKE LOCK READ LOGS BLUETOOTH ADMIN WRITE EXTERNAL STORAGE CAMERA ACCESS M\n"
     ]
    },
    {
     "name": "stderr",
     "output_type": "stream",
     "text": [
      "Evaluating:  71%|███████   | 1574/2220 [06:00<02:16,  4.73it/s]"
     ]
    },
    {
     "name": "stdout",
     "output_type": "stream",
     "text": [
      "True Label: white, Predicted Label: black, Text: 我就要吃鸡 CHANGE NETWORK STATE WAKE LOCK QUERY ALL PACKAGES READ LOGS TASKS WRITE EXTERNAL STORAGE CHANG\n"
     ]
    },
    {
     "name": "stderr",
     "output_type": "stream",
     "text": [
      "Evaluating:  71%|███████   | 1576/2220 [06:01<02:47,  3.83it/s]"
     ]
    },
    {
     "name": "stdout",
     "output_type": "stream",
     "text": [
      "True Label: white, Predicted Label: scam, Text: Qu qu im push MESSAGE POST NOTIFICATIONS WAKE LOCK qu im DYNAMIC RECEIVER NOT EXPORTED qu im C D MES\n"
     ]
    },
    {
     "name": "stderr",
     "output_type": "stream",
     "text": [
      "Evaluating:  71%|███████▏  | 1585/2220 [06:03<02:01,  5.22it/s]"
     ]
    },
    {
     "name": "stdout",
     "output_type": "stream",
     "text": [
      "True Label: white, Predicted Label: black, Text: 甜瓜 READ PHONE STATE READ EXTERNAL STORAGE WAKE LOCK CALL PHONE WRITE EXTERNAL STORAGE tiangua tg ope\n"
     ]
    },
    {
     "name": "stderr",
     "output_type": "stream",
     "text": [
      "Evaluating:  72%|███████▏  | 1590/2220 [06:04<02:18,  4.54it/s]"
     ]
    },
    {
     "name": "stdout",
     "output_type": "stream",
     "text": [
      "True Label: white, Predicted Label: gamble, Text: 消林传说 ACCESS COARSE LOCATION READ PHONE STATE BLUETOOTH CONNECT freemme msa SECURITY ACCESS freemme m\n"
     ]
    },
    {
     "name": "stderr",
     "output_type": "stream",
     "text": [
      "Evaluating:  72%|███████▏  | 1598/2220 [06:06<01:51,  5.58it/s]"
     ]
    },
    {
     "name": "stdout",
     "output_type": "stream",
     "text": [
      "True Label: white, Predicted Label: scam, Text: 溧阳中联金 USE FINGERPRINT READ EXTERNAL STORAGE WRITE EXTERNAL STORAGE hardware camera autofocus CAMERA \n"
     ]
    },
    {
     "name": "stderr",
     "output_type": "stream",
     "text": [
      "Evaluating:  72%|███████▏  | 1599/2220 [06:06<02:07,  4.89it/s]"
     ]
    },
    {
     "name": "stdout",
     "output_type": "stream",
     "text": [
      "True Label: white, Predicted Label: gamble, Text: 消林传说 ACCESS COARSE LOCATION READ PHONE STATE BLUETOOTH CONNECT freemme msa SECURITY ACCESS freemme m\n"
     ]
    },
    {
     "name": "stderr",
     "output_type": "stream",
     "text": [
      "Evaluating:  72%|███████▏  | 1603/2220 [06:07<02:26,  4.20it/s]"
     ]
    },
    {
     "name": "stdout",
     "output_type": "stream",
     "text": [
      "True Label: white, Predicted Label: scam, Text: 侠客游H5 CHANGE NETWORK STATE plus H EEBF huawei CHANGE BADGE WAKE LOCK FLASHLIGHT ACCOUNTS WRITE SETTI\n"
     ]
    },
    {
     "name": "stderr",
     "output_type": "stream",
     "text": [
      "Evaluating:  72%|███████▏  | 1608/2220 [06:08<02:23,  4.28it/s]"
     ]
    },
    {
     "name": "stdout",
     "output_type": "stream",
     "text": [
      "True Label: white, Predicted Label: scam, Text: 一斗米 SYSTEM ALERT WINDOW POST NOTIFICATIONS VIBRATE addy fen DYNAMIC RECEIVER NOT EXPORTED WAKE LOCK \n"
     ]
    },
    {
     "name": "stderr",
     "output_type": "stream",
     "text": [
      "Evaluating:  73%|███████▎  | 1613/2220 [06:09<02:32,  3.98it/s]"
     ]
    },
    {
     "name": "stdout",
     "output_type": "stream",
     "text": [
      "True Label: white, Predicted Label: black, Text: Telegram USE FINGERPRINT htc UPDATE SHORTCUT sec provider badge WRITE vending BILLING USE BIOMETRIC \n"
     ]
    },
    {
     "name": "stderr",
     "output_type": "stream",
     "text": [
      "Evaluating:  73%|███████▎  | 1617/2220 [06:10<02:43,  3.70it/s]"
     ]
    },
    {
     "name": "stdout",
     "output_type": "stream",
     "text": [
      "True Label: white, Predicted Label: black, Text: 国家兽药综合查询 VIBRATE WRITE EXTERNAL STORAGE CAMERA FLASHLIGHT ACCESS NETWORK STATE ACCESS WIFI STATE ACC\n"
     ]
    },
    {
     "name": "stderr",
     "output_type": "stream",
     "text": [
      "Evaluating:  74%|███████▎  | 1632/2220 [06:14<02:27,  3.99it/s]"
     ]
    },
    {
     "name": "stdout",
     "output_type": "stream",
     "text": [
      "True Label: scam, Predicted Label: black, Text: 华西终端 change network state ignite lock Landroidtranscoder account write delineate vivo telling badge \n"
     ]
    },
    {
     "name": "stderr",
     "output_type": "stream",
     "text": [
      "Evaluating:  74%|███████▎  | 1637/2220 [06:15<02:31,  3.84it/s]"
     ]
    },
    {
     "name": "stdout",
     "output_type": "stream",
     "text": [
      "True Label: gamble, Predicted Label: white, Text: 澳门威尼斯人 deepen Landroid put_forward entree yttrium supererogatory bidding AccessibilityStateChangeLis\n"
     ]
    },
    {
     "name": "stderr",
     "output_type": "stream",
     "text": [
      "Evaluating:  75%|███████▍  | 1654/2220 [06:19<02:30,  3.76it/s]"
     ]
    },
    {
     "name": "stdout",
     "output_type": "stream",
     "text": [
      "True Label: black, Predicted Label: scam, Text: thingummy net init r META INF cert RSA example qqapplication drawable example head_up DropDownAdapte\n"
     ]
    },
    {
     "name": "stderr",
     "output_type": "stream",
     "text": [
      "Evaluating:  75%|███████▍  | 1662/2220 [06:21<01:50,  5.05it/s]"
     ]
    },
    {
     "name": "stdout",
     "output_type": "stream",
     "text": [
      "True Label: scam, Predicted Label: sex, Text: DrawableContainer BT appcompat Landroidx read external entrepot mDescription Landroid ConfigurationI\n"
     ]
    },
    {
     "name": "stderr",
     "output_type": "stream",
     "text": [
      "Evaluating:  76%|███████▌  | 1690/2220 [06:28<02:04,  4.25it/s]"
     ]
    },
    {
     "name": "stdout",
     "output_type": "stream",
     "text": [
      "True Label: white, Predicted Label: scam, Text: appcompat vivo telling badge ikon understand medium action compose external store send_for call huaw\n"
     ]
    },
    {
     "name": "stderr",
     "output_type": "stream",
     "text": [
      "Evaluating:  77%|███████▋  | 1701/2220 [06:30<01:44,  4.95it/s]"
     ]
    },
    {
     "name": "stdout",
     "output_type": "stream",
     "text": [
      "True Label: gamble, Predicted Label: scam, Text: Landroidx Impl track appcompat RequiresOptIn extraneous computer_storage to network put_forward memo\n"
     ]
    },
    {
     "name": "stderr",
     "output_type": "stream",
     "text": [
      "Evaluating:  77%|███████▋  | 1708/2220 [06:32<01:58,  4.32it/s]"
     ]
    },
    {
     "name": "stdout",
     "output_type": "stream",
     "text": [
      "True Label: white, Predicted Label: sex, Text: 拉卡拉易分期 change init country admission positioning supernumerary command group_B lah f M group_B t H g\n"
     ]
    },
    {
     "name": "stderr",
     "output_type": "stream",
     "text": [
      "Evaluating:  78%|███████▊  | 1735/2220 [06:39<02:07,  3.82it/s]"
     ]
    },
    {
     "name": "stdout",
     "output_type": "stream",
     "text": [
      "True Label: white, Predicted Label: black, Text: Landroidx torch PlaybackStateCompat Landroidx InflatedOnMenuItemClickListener onDraw getLastBitmap v\n"
     ]
    },
    {
     "name": "stderr",
     "output_type": "stream",
     "text": [
      "Evaluating:  79%|███████▉  | 1749/2220 [06:42<01:53,  4.15it/s]"
     ]
    },
    {
     "name": "stdout",
     "output_type": "stream",
     "text": [
      "True Label: white, Predicted Label: scam, Text: V organization alarm window luminousness notification vacillate addy getView dynamical Landroidx not\n"
     ]
    },
    {
     "name": "stderr",
     "output_type": "stream",
     "text": [
      "Evaluating:  81%|████████  | 1797/2220 [06:54<01:29,  4.71it/s]"
     ]
    },
    {
     "name": "stdout",
     "output_type": "stream",
     "text": [
      "True Label: gamble, Predicted Label: white, Text: digest change posit admittance fix superfluous customs_duty gas_constant interlock seekBarStyle cont\n"
     ]
    },
    {
     "name": "stderr",
     "output_type": "stream",
     "text": [
      "Evaluating:  82%|████████▏ | 1820/2220 [07:00<01:26,  4.64it/s]"
     ]
    },
    {
     "name": "stdout",
     "output_type": "stream",
     "text": [
      "True Label: black, Predicted Label: gamble, Text: 益丰园 layout network FontResourcesParserCompat approach location five overlook wake interlock flashlig\n"
     ]
    },
    {
     "name": "stderr",
     "output_type": "stream",
     "text": [
      "Evaluating:  82%|████████▏ | 1821/2220 [07:00<01:33,  4.26it/s]"
     ]
    },
    {
     "name": "stdout",
     "output_type": "stream",
     "text": [
      "True Label: black, Predicted Label: gamble, Text: r interpret extraneous computer_memory publish compensate modest backwash lock briny quintuplet comp\n"
     ]
    },
    {
     "name": "stderr",
     "output_type": "stream",
     "text": [
      "Evaluating:  82%|████████▏ | 1824/2220 [07:01<01:39,  3.98it/s]"
     ]
    },
    {
     "name": "stdout",
     "output_type": "stream",
     "text": [
      "True Label: black, Predicted Label: sex, Text: 青苹果视频 learn ring art ensue activeness storage gimmick lock action ring write getStarRating gimmick t\n"
     ]
    },
    {
     "name": "stderr",
     "output_type": "stream",
     "text": [
      "Evaluating:  82%|████████▏ | 1828/2220 [07:02<01:35,  4.13it/s]"
     ]
    },
    {
     "name": "stdout",
     "output_type": "stream",
     "text": [
      "True Label: black, Predicted Label: scam, Text: 花小猪打车 read phone land Landroidx action storage inflame interlace Landroidx phone write extraneous an\n"
     ]
    },
    {
     "name": "stderr",
     "output_type": "stream",
     "text": [
      "Evaluating:  83%|████████▎ | 1848/2220 [07:06<01:26,  4.29it/s]"
     ]
    },
    {
     "name": "stdout",
     "output_type": "stream",
     "text": [
      "True Label: black, Predicted Label: white, Text: init change natural_process put_forward AVC ten billet app entirely software_system getui Landroidtr\n"
     ]
    },
    {
     "name": "stderr",
     "output_type": "stream",
     "text": [
      "Evaluating:  84%|████████▎ | 1854/2220 [07:07<01:14,  4.89it/s]"
     ]
    },
    {
     "name": "stdout",
     "output_type": "stream",
     "text": [
      "True Label: sex, Predicted Label: scam, Text: 老王 arrangement Bel window vibrate convenience supplier util extraneous init appcompat extraneous war\n"
     ]
    },
    {
     "name": "stderr",
     "output_type": "stream",
     "text": [
      "Evaluating:  84%|████████▍ | 1864/2220 [07:09<01:10,  5.04it/s]"
     ]
    },
    {
     "name": "stdout",
     "output_type": "stream",
     "text": [
      "True Label: gamble, Predicted Label: black, Text: 8898彩票 setHomeAsUpIndicator canonic annotating curve emplacement fragment Landroidx Wake_Island inte\n"
     ]
    },
    {
     "name": "stderr",
     "output_type": "stream",
     "text": [
      "Evaluating:  84%|████████▍ | 1865/2220 [07:10<01:17,  4.60it/s]"
     ]
    },
    {
     "name": "stdout",
     "output_type": "stream",
     "text": [
      "True Label: white, Predicted Label: scam, Text: init action note doohickey substance_abuser take action init function say appcompat chore tooltip ea\n"
     ]
    },
    {
     "name": "stderr",
     "output_type": "stream",
     "text": [
      "Evaluating:  85%|████████▍ | 1876/2220 [07:12<01:10,  4.88it/s]"
     ]
    },
    {
     "name": "stdout",
     "output_type": "stream",
     "text": [
      "True Label: black, Predicted Label: scam, Text: SDK启动 A network dispatchGenericMotionEvent access B res_publica internet iodine sdkqidong applyTheme\n"
     ]
    },
    {
     "name": "stderr",
     "output_type": "stream",
     "text": [
      "Evaluating:  85%|████████▍ | 1879/2220 [07:12<00:54,  6.29it/s]"
     ]
    },
    {
     "name": "stdout",
     "output_type": "stream",
     "text": [
      "True Label: black, Predicted Label: scam, Text: impute sdk onQueueTitleChanged one_C 500 message Landroidx pitch atomic_number_9 read earphone expre\n"
     ]
    },
    {
     "name": "stderr",
     "output_type": "stream",
     "text": [
      "Evaluating:  85%|████████▍ | 1882/2220 [07:13<01:15,  4.49it/s]"
     ]
    },
    {
     "name": "stdout",
     "output_type": "stream",
     "text": [
      "True Label: sex, Predicted Label: scam, Text: mExtraBinder bg coarse medium Landroid storage speech_sound this record documentation Landroidx val \n"
     ]
    },
    {
     "name": "stderr",
     "output_type": "stream",
     "text": [
      "Evaluating:  85%|████████▌ | 1897/2220 [07:16<01:07,  4.81it/s]"
     ]
    },
    {
     "name": "stdout",
     "output_type": "stream",
     "text": [
      "True Label: black, Predicted Label: gamble, Text: preference sqjzapp rjsoft Landroidx hitv SipService getui GetuiService sqjzapp rjsoft sfjz carry fon\n"
     ]
    },
    {
     "name": "stderr",
     "output_type": "stream",
     "text": [
      "Evaluating:  86%|████████▌ | 1899/2220 [07:17<01:09,  4.63it/s]"
     ]
    },
    {
     "name": "stdout",
     "output_type": "stream",
     "text": [
      "True Label: black, Predicted Label: scam, Text: telegram function fingerprint appcompat network app menu lock activeness setting account AlertDialog\n"
     ]
    },
    {
     "name": "stderr",
     "output_type": "stream",
     "text": [
      "Evaluating:  87%|████████▋ | 1924/2220 [07:23<01:17,  3.81it/s]"
     ]
    },
    {
     "name": "stdout",
     "output_type": "stream",
     "text": [
      "True Label: sex, Predicted Label: gamble, Text: 在阴暗的房间中和独孤的女孩子的物语 get_at centre body_politic BLUETOOTH internet dev zzksoft A META appcompat app RSA\n"
     ]
    },
    {
     "name": "stderr",
     "output_type": "stream",
     "text": [
      "Evaluating:  87%|████████▋ | 1941/2220 [07:28<01:13,  3.81it/s]"
     ]
    },
    {
     "name": "stdout",
     "output_type": "stream",
     "text": [
      "True Label: white, Predicted Label: sex, Text: 胡桃大战史莱姆 modify web shit Wake_Island lock query all parcel project compose outside z modify val Unite\n"
     ]
    },
    {
     "name": "stderr",
     "output_type": "stream",
     "text": [
      "Evaluating:  88%|████████▊ | 1955/2220 [07:31<01:04,  4.14it/s]"
     ]
    }
   ],
   "source": [
    "import torch  # 导入PyTorch库\n",
    "import numpy as np  # 导入NumPy库\n",
    "import pandas as pd  # 导入Pandas库\n",
    "from transformers import BertTokenizer, BertModel  # 从Transformers库中导入BertTokenizer和BertModel\n",
    "from torch import nn  # 导入PyTorch的神经网络模块\n",
    "from tqdm import tqdm  # 导入tqdm库用于进度条显示\n",
    "import gc  # 导入垃圾回收模块\n",
    "import os  # 导入操作系统接口模块\n",
    "\n",
    "# 清理GPU内存\n",
    "def free_gpu_memory():\n",
    "    gc.collect()  # 垃圾回收\n",
    "    torch.cuda.empty_cache()  # 清空CUDA缓存\n",
    "\n",
    "free_gpu_memory()  # 调用清理GPU内存的函数\n",
    "\n",
    "tokenizer = BertTokenizer.from_pretrained('model')  # 从预训练模型加载BertTokenizer\n",
    "\n",
    "# 定义标签字典\n",
    "labels = {'white': 0, 'sex': 1, 'scam': 2, 'gamble': 3, 'black': 4}\n",
    "id_to_label = {v: k for k, v in labels.items()}  # 反向标签字典\n",
    "\n",
    "# 定义滑动窗口分词器函数\n",
    "def sliding_window_tokenizer(text, tokenizer, max_length=128, stride=64):\n",
    "    encoding = tokenizer(text, return_tensors='pt', truncation=False)  # 对文本进行编码\n",
    "    input_ids = encoding['input_ids'].squeeze(0)  # 获取input_ids并去除批次维度\n",
    "    attention_mask = encoding['attention_mask'].squeeze(0)  # 获取attention_mask并去除批次维度\n",
    "\n",
    "    token_windows = []  # 初始化存储token窗口的列表\n",
    "    for i in range(0, len(input_ids), stride):  # 按照步长进行滑动窗口\n",
    "        window_input_ids = input_ids[i:i + max_length]  # 获取当前窗口的input_ids\n",
    "        window_attention_mask = attention_mask[i:i + max_length]  # 获取当前窗口的attention_mask\n",
    "\n",
    "        if len(window_input_ids) < max_length:  # 如果当前窗口的长度小于最大长度\n",
    "            pad_length = max_length - len(window_input_ids)  # 计算需要填充的长度\n",
    "            window_input_ids = torch.cat([window_input_ids, torch.zeros(pad_length, dtype=torch.long)])  # 填充input_ids\n",
    "            window_attention_mask = torch.cat([window_attention_mask, torch.zeros(pad_length, dtype=torch.long)])  # 填充attention_mask\n",
    "\n",
    "        token_windows.append((window_input_ids, window_attention_mask))  # 将当前窗口加入列表\n",
    "\n",
    "    return token_windows  # 返回所有的token窗口\n",
    "\n",
    "# 定义自定义数据集类\n",
    "class Dataset(torch.utils.data.Dataset):\n",
    "    def __init__(self, df, tokenizer, max_length=128, stride=64):\n",
    "        self.labels = [labels[label] for label in df['label']]  # 将标签转换为数字\n",
    "        self.texts = [text for text in df['final']]  # 获取所有的文本\n",
    "        self.tokenizer = tokenizer  # 保存分词器\n",
    "        self.max_length = max_length  # 保存最大长度\n",
    "        self.stride = stride  # 保存步长\n",
    "\n",
    "    def __len__(self):\n",
    "        return len(self.labels)  # 返回数据集的长度\n",
    "\n",
    "    def __getitem__(self, idx):\n",
    "        text = self.texts[idx]  # 获取指定索引的文本\n",
    "        label = self.labels[idx]  # 获取指定索引的标签\n",
    "\n",
    "        token_windows = sliding_window_tokenizer(text, self.tokenizer, self.max_length, self.stride)  # 对文本进行滑动窗口分词\n",
    "        input_ids_list, attention_mask_list = zip(*token_windows)  # 解压得到input_ids和attention_mask列表\n",
    "\n",
    "        return {\n",
    "            'input_ids': torch.stack(input_ids_list),  # 将input_ids堆叠成张量\n",
    "            'attention_mask': torch.stack(attention_mask_list),  # 将attention_mask堆叠成张量\n",
    "            'labels': torch.tensor(label, dtype=torch.long),  # 将标签转换为张量\n",
    "            'text': text  # 返回原始文本\n",
    "        }\n",
    "\n",
    "# 定义自定义的collate函数\n",
    "def custom_collate_fn(batch):\n",
    "    input_ids = [item['input_ids'] for item in batch]  # 获取batch中的所有input_ids\n",
    "    attention_mask = [item['attention_mask'] for item in batch]  # 获取batch中的所有attention_mask\n",
    "    labels = torch.tensor([item['labels'] for item in batch], dtype=torch.long)  # 获取batch中的所有标签并转换为张量\n",
    "\n",
    "    max_num_windows = max([x.size(0) for x in input_ids])  # 获取batch中最大窗口数量\n",
    "    \n",
    "    for i in range(len(input_ids)):  # 对batch中的每个样本进行处理\n",
    "        num_windows = input_ids[i].size(0)  # 获取当前样本的窗口数量\n",
    "        if num_windows < max_num_windows:  # 如果当前样本的窗口数量小于最大窗口数量\n",
    "            pad_size = max_num_windows - num_windows  # 计算需要填充的窗口数量\n",
    "            input_ids[i] = torch.cat([input_ids[i], torch.zeros(pad_size, input_ids[i].size(1), dtype=torch.long)], dim=0)  # 填充input_ids\n",
    "            attention_mask[i] = torch.cat([attention_mask[i], torch.zeros(pad_size, attention_mask[i].size(1), dtype=torch.long)], dim=0)  # 填充attention_mask\n",
    "\n",
    "    input_ids = torch.stack(input_ids)  # 将所有input_ids堆叠成一个张量\n",
    "    attention_mask = torch.stack(attention_mask)  # 将所有attention_mask堆叠成一个张量\n",
    "    \n",
    "    return {\n",
    "        'input_ids': input_ids,\n",
    "        'attention_mask': attention_mask,\n",
    "        'labels': labels,\n",
    "        'texts': [item['text'] for item in batch]  # 返回原始文本\n",
    "    }\n",
    "\n",
    "# 定义Bert分类器类\n",
    "class BertClassifier(nn.Module):\n",
    "    def __init__(self, dropout=0.5):\n",
    "        super(BertClassifier, self).__init__()\n",
    "        self.bert = BertModel.from_pretrained('model')  # 加载预训练的BertModel\n",
    "        self.dropout = nn.Dropout(dropout)  # 定义dropout层\n",
    "        self.linear = nn.Linear(768, 5)  # 定义线性层，输出维度为5\n",
    "\n",
    "    def forward(self, input_ids, attention_mask):\n",
    "        batch_size, num_windows, seq_len = input_ids.size()  # 获取batch的大小，窗口数量和序列长度\n",
    "        input_ids = input_ids.view(-1, seq_len)  # 将input_ids展平\n",
    "        attention_mask = attention_mask.view(-1, seq_len)  # 将attention_mask展平\n",
    "\n",
    "        outputs = self.bert(input_ids=input_ids, attention_mask=attention_mask)  # 获取Bert的输出\n",
    "        pooled_output = outputs.pooler_output  # 获取池化输出\n",
    "        pooled_output = pooled_output.view(batch_size, num_windows, -1).mean(dim=1)   # 对窗口进行平均池化\n",
    "\n",
    "        dropout_output = self.dropout(pooled_output)  # 通过dropout层\n",
    "        linear_output = self.linear(dropout_output)  # 通过线性层\n",
    "        return linear_output  # 返回输出\n",
    "\n",
    "CHECKPOINT_FILE = 'model_checkpoint-Copy2.pt'  # 定义检查点文件路径\n",
    "\n",
    "# 定义加载检查点函数\n",
    "def load_checkpoint(model):\n",
    "    if os.path.exists(CHECKPOINT_FILE):  # 检查检查点文件是否存在\n",
    "        checkpoint = torch.load(CHECKPOINT_FILE)  # 加载检查点\n",
    "        model_state_dict = checkpoint['model_state_dict']  # 获取模型状态字典\n",
    "        if isinstance(model, nn.DataParallel):\n",
    "            model.module.load_state_dict(model_state_dict)  # 加载模型状态字典\n",
    "        else:\n",
    "            model.load_state_dict(model_state_dict)\n",
    "        print(f\"Checkpoint loaded.\")\n",
    "    else:\n",
    "        print(\"No checkpoint found.\")\n",
    "\n",
    "# 定义评估函数\n",
    "def evaluate(model, test_data, batch_size):\n",
    "    test_dataset = Dataset(test_data, tokenizer)  # 创建测试数据集\n",
    "    test_dataloader = torch.utils.data.DataLoader(test_dataset, batch_size=batch_size, collate_fn=custom_collate_fn)  # 创建测试数据加载器\n",
    "    use_cuda = torch.cuda.is_available()  # 检查是否可以使用CUDA\n",
    "    device = torch.device(\"cuda\" if use_cuda else \"cpu\")  # 设置设备为GPU或CPU\n",
    "    model.to(device)  # 将模型移动到设备\n",
    "\n",
    "    if use_cuda:\n",
    "        model = nn.DataParallel(model).cuda()  # 如果使用CUDA，则使用DataParallel并将模型移动到GPU\n",
    "\n",
    "    total_acc_test = 0  # 初始化测试准确率\n",
    "\n",
    "    with torch.no_grad():  # 不进行梯度计算\n",
    "        for i, test_input in enumerate(tqdm(test_dataloader, desc=\"Evaluating\")):  # 遍历测试数据并显示进度条\n",
    "            test_label = test_input['labels'].to(device)  # 获取测试标签并移动到设备\n",
    "            mask = test_input['attention_mask'].to(device)  # 获取attention_mask并移动到设备\n",
    "            input_ids = test_input['input_ids'].to(device)  # 获取input_ids并移动到设备\n",
    "            output = model(input_ids, mask)  # 通过模型获取输出\n",
    "            preds = output.argmax(dim=1)  # 获取预测结果\n",
    "            acc = (preds == test_label).sum().item()  # 计算准确率\n",
    "            total_acc_test += acc  # 累加准确率\n",
    "\n",
    "            # 记录并打印错误的样本\n",
    "            for idx, pred in enumerate(preds):\n",
    "                if pred != test_label[idx]:\n",
    "                    text = test_input['texts'][idx][:100]  # 获取文本的前500个字符\n",
    "                    true_label = id_to_label[test_label[idx].item()]\n",
    "                    predicted_label = id_to_label[pred.item()]\n",
    "                    print(f\"True Label: {true_label}, Predicted Label: {predicted_label}, Text: {text}\")\n",
    "\n",
    "    print(f'Test Accuracy: {total_acc_test / len(test_dataset): .3f}')  # 打印测试准确率\n",
    "\n",
    "df = pd.read_csv('final_data.csv', encoding=\"GBK\")\n",
    "\n",
    "model = BertClassifier()\n",
    "BATCH_SIZE = 1\n",
    "\n",
    "load_checkpoint(model)  # 加载预训练模型\n",
    "evaluate(model, df, BATCH_SIZE)  # 进行评估\n"
   ]
  },
  {
   "cell_type": "code",
   "execution_count": null,
   "id": "8db39069-3b78-4415-94f7-871537c946bb",
   "metadata": {},
   "outputs": [],
   "source": []
  }
 ],
 "metadata": {
  "kernelspec": {
   "display_name": "Python 3 (ipykernel)",
   "language": "python",
   "name": "python3"
  },
  "language_info": {
   "codemirror_mode": {
    "name": "ipython",
    "version": 3
   },
   "file_extension": ".py",
   "mimetype": "text/x-python",
   "name": "python",
   "nbconvert_exporter": "python",
   "pygments_lexer": "ipython3",
   "version": "3.8.10"
  }
 },
 "nbformat": 4,
 "nbformat_minor": 5
}
